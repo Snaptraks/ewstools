{
 "cells": [
  {
   "cell_type": "markdown",
   "metadata": {},
   "source": [
    "# Tutorial : Introduction to *ewstools*\n",
    "\n",
    "By the end of this tutorial you should know how to:\n",
    "- Initialise a TimeSeries object with your data\n",
    "- Detrend your data using a specific filter and bandwidth\n",
    "- Compute CSD-based early warning signals (EWS) over a rolling window\n",
    "- Measure the trend of the EWS with Kendall tau values\n",
    "- Visualise output\n",
    "\n",
    "Further details on each class and function can be found in the [documentation](https://ewstools.readthedocs.io/en/latest/).\n",
    "\n",
    "Total run time : 2 min 18 s on Macbook Air (M1, 2020)\n"
   ]
  },
  {
   "cell_type": "markdown",
   "metadata": {},
   "source": [
    "## Import libraries\n"
   ]
  },
  {
   "cell_type": "code",
   "execution_count": 1,
   "metadata": {},
   "outputs": [],
   "source": [
    "# Start timer to record execution time of notebook\n",
    "import time\n",
    "start_time = time.time()"
   ]
  },
  {
   "cell_type": "code",
   "execution_count": 2,
   "metadata": {},
   "outputs": [],
   "source": [
    "import numpy as np\n",
    "np.random.seed(0) # Set seed for reproducibility\n",
    "import pandas as pd\n",
    "import matplotlib.pyplot as plt\n",
    "import os\n",
    "\n",
    "import ewstools\n",
    "from ewstools.models import simulate_ricker"
   ]
  },
  {
   "cell_type": "markdown",
   "metadata": {},
   "source": [
    "## Initialise a TimeSeries object\n",
    "\n",
    "Before computing EWS, it is necessary to set up your data inside a TimeSeries object. Your data must be a 1D time series and can take the form of a python list, a numpy array, or a pandas series. In the case of a pandas series, the index of your data will be carried forward throughout the analysis, which is preferable if you don't want arbitrary time points assigned.\n"
   ]
  },
  {
   "cell_type": "markdown",
   "metadata": {},
   "source": [
    "For this tutorial, we will use simulation data from the Ricker model going through a Fold bifurcation. There is a collection of functions to simulate various models in [*ewstools.models*](https://ewstools.readthedocs.io/en/latest/ewstools.html#). We will simulate 500 points and increase the harvesting rate from 0 to 2.7 over the course of the trajectory."
   ]
  },
  {
   "cell_type": "code",
   "execution_count": 3,
   "metadata": {
    "scrolled": true
   },
   "outputs": [
    {
     "data": {
      "image/png": "[encoded data removed]",
      "text/plain": [
       "<Figure size 432x288 with 1 Axes>"
      ]
     },
     "metadata": {
      "needs_background": "light"
     },
     "output_type": "display_data"
    }
   ],
   "source": [
    "series = simulate_ricker(tmax=1000, F=[0,2.7])\n",
    "series.plot();"
   ]
  },
  {
   "cell_type": "markdown",
   "metadata": {},
   "source": [
    "This outputs a pandas Series, which an acceptable form to put into the TimeSeries object."
   ]
  },
  {
   "cell_type": "code",
   "execution_count": 4,
   "metadata": {
    "scrolled": true
   },
   "outputs": [
    {
     "data": {
      "text/plain": [
       "pandas.core.series.Series"
      ]
     },
     "execution_count": 4,
     "metadata": {},
     "output_type": "execute_result"
    }
   ],
   "source": [
    "type(series)"
   ]
  },
  {
   "cell_type": "markdown",
   "metadata": {},
   "source": [
    "Alongside the data, there is the option to specify a transtion time, beyond which any EWS will not be computed. Based on the plot, let's take a conservative transition time of 420. There exist methods to estimate transition times such as change-point detection algorithms, which can be implemented using the Python package [ruptures](https://github.com/deepcharles/ruptures)."
   ]
  },
  {
   "cell_type": "code",
   "execution_count": 5,
   "metadata": {},
   "outputs": [],
   "source": [
    "# Create TimeSeries object\n",
    "ts = ewstools.TimeSeries(data=series, transition=840)"
   ]
  },
  {
   "cell_type": "markdown",
   "metadata": {},
   "source": [
    "The TimeSeries object has several attributes worth knowing about:\n",
    "\n",
    "| Attribute | Type | Notes |\n",
    "| :- | :- | :- |\n",
    "| transition  | float | transition time (if defined) | \n",
    "| state  | pd.DataFrame | dataframe containing raw time series data and any detrending | \n",
    "| ews  | pd.DataFrame | dataframe containing any EWS computed | \n",
    "| ktau  | dict | dictionary containing Kendall tau values | \n",
    "| dl_preds  | pd.DataFrame | dataframe containing predictions from deep learning classifiers | \n",
    "\n",
    "You can access these attributes by writing *TimeSeries.attribute*."
   ]
  },
  {
   "cell_type": "code",
   "execution_count": 6,
   "metadata": {},
   "outputs": [
    {
     "data": {
      "text/plain": [
       "840.0"
      ]
     },
     "execution_count": 6,
     "metadata": {},
     "output_type": "execute_result"
    }
   ],
   "source": [
    "# E.g. check the defined transtion time\n",
    "ts.transition"
   ]
  },
  {
   "cell_type": "markdown",
   "metadata": {},
   "source": [
    "To begin with, these attributes should all be empty, except for *transition* (if defined) and *state*, where you should see your data. We will display the head of the *state* DataFrame."
   ]
  },
  {
   "cell_type": "code",
   "execution_count": 7,
   "metadata": {
    "scrolled": false
   },
   "outputs": [
    {
     "data": {
      "text/html": [
       "<div>\n",
       "<style scoped>\n",
       "    .dataframe tbody tr th:only-of-type {\n",
       "        vertical-align: middle;\n",
       "    }\n",
       "\n",
       "    .dataframe tbody tr th {\n",
       "        vertical-align: top;\n",
       "    }\n",
       "\n",
       "    .dataframe thead th {\n",
       "        text-align: right;\n",
       "    }\n",
       "</style>\n",
       "<table border=\"1\" class=\"dataframe\">\n",
       "  <thead>\n",
       "    <tr style=\"text-align: right;\">\n",
       "      <th></th>\n",
       "      <th>state</th>\n",
       "    </tr>\n",
       "    <tr>\n",
       "      <th>time</th>\n",
       "      <th></th>\n",
       "    </tr>\n",
       "  </thead>\n",
       "  <tbody>\n",
       "    <tr>\n",
       "      <th>0</th>\n",
       "      <td>10.108574</td>\n",
       "    </tr>\n",
       "    <tr>\n",
       "      <th>1</th>\n",
       "      <td>10.411427</td>\n",
       "    </tr>\n",
       "    <tr>\n",
       "      <th>2</th>\n",
       "      <td>9.823899</td>\n",
       "    </tr>\n",
       "    <tr>\n",
       "      <th>3</th>\n",
       "      <td>9.699381</td>\n",
       "    </tr>\n",
       "    <tr>\n",
       "      <th>4</th>\n",
       "      <td>10.106707</td>\n",
       "    </tr>\n",
       "  </tbody>\n",
       "</table>\n",
       "</div>"
      ],
      "text/plain": [
       "          state\n",
       "time           \n",
       "0     10.108574\n",
       "1     10.411427\n",
       "2      9.823899\n",
       "3      9.699381\n",
       "4     10.106707"
      ]
     },
     "execution_count": 7,
     "metadata": {},
     "output_type": "execute_result"
    }
   ],
   "source": [
    "ts.state.head()"
   ]
  },
  {
   "cell_type": "markdown",
   "metadata": {},
   "source": [
    "We can plot it using the pandas function *.plot()*:"
   ]
  },
  {
   "cell_type": "code",
   "execution_count": 8,
   "metadata": {
    "scrolled": false
   },
   "outputs": [
    {
     "data": {
      "image/png": "[encoded data removed]",
      "text/plain": [
       "<Figure size 432x288 with 1 Axes>"
      ]
     },
     "metadata": {
      "needs_background": "light"
     },
     "output_type": "display_data"
    }
   ],
   "source": [
    "ts.state.plot();"
   ]
  },
  {
   "cell_type": "markdown",
   "metadata": {},
   "source": [
    "## Detrend the data (if necessary)\n",
    "\n",
    "You can detrend your data with either a Lowess or a Gaussian filter. You'll need to select a bandwidth (for Gaussian) or a span (for Lowess). Considerations to make when choosing appropriate detrending parameters are given in [Dakos et al. (2012)](https://journals.plos.org/plosone/article?id=10.1371/journal.pone.0041010). You can define your bandwidth/span as either an absolute number of data points, or a proportion of the number of data points prior to the transition."
   ]
  },
  {
   "cell_type": "markdown",
   "metadata": {},
   "source": [
    "Let's detrend our data using a Lowess filter with a span of 0.2. After applying the method *detrend*() to the TimeSeries class, we will see that the attribute *state* contains the smoothed time series and residuals."
   ]
  },
  {
   "cell_type": "code",
   "execution_count": 9,
   "metadata": {
    "scrolled": false
   },
   "outputs": [
    {
     "data": {
      "text/html": [
       "<div>\n",
       "<style scoped>\n",
       "    .dataframe tbody tr th:only-of-type {\n",
       "        vertical-align: middle;\n",
       "    }\n",
       "\n",
       "    .dataframe tbody tr th {\n",
       "        vertical-align: top;\n",
       "    }\n",
       "\n",
       "    .dataframe thead th {\n",
       "        text-align: right;\n",
       "    }\n",
       "</style>\n",
       "<table border=\"1\" class=\"dataframe\">\n",
       "  <thead>\n",
       "    <tr style=\"text-align: right;\">\n",
       "      <th></th>\n",
       "      <th>state</th>\n",
       "      <th>smoothing</th>\n",
       "      <th>residuals</th>\n",
       "    </tr>\n",
       "    <tr>\n",
       "      <th>time</th>\n",
       "      <th></th>\n",
       "      <th></th>\n",
       "      <th></th>\n",
       "    </tr>\n",
       "  </thead>\n",
       "  <tbody>\n",
       "    <tr>\n",
       "      <th>0</th>\n",
       "      <td>10.108574</td>\n",
       "      <td>10.098202</td>\n",
       "      <td>0.010372</td>\n",
       "    </tr>\n",
       "    <tr>\n",
       "      <th>1</th>\n",
       "      <td>10.411427</td>\n",
       "      <td>10.092986</td>\n",
       "      <td>0.318441</td>\n",
       "    </tr>\n",
       "    <tr>\n",
       "      <th>2</th>\n",
       "      <td>9.823899</td>\n",
       "      <td>10.087775</td>\n",
       "      <td>-0.263876</td>\n",
       "    </tr>\n",
       "    <tr>\n",
       "      <th>3</th>\n",
       "      <td>9.699381</td>\n",
       "      <td>10.082569</td>\n",
       "      <td>-0.383188</td>\n",
       "    </tr>\n",
       "    <tr>\n",
       "      <th>4</th>\n",
       "      <td>10.106707</td>\n",
       "      <td>10.077369</td>\n",
       "      <td>0.029338</td>\n",
       "    </tr>\n",
       "  </tbody>\n",
       "</table>\n",
       "</div>"
      ],
      "text/plain": [
       "          state  smoothing  residuals\n",
       "time                                 \n",
       "0     10.108574  10.098202   0.010372\n",
       "1     10.411427  10.092986   0.318441\n",
       "2      9.823899  10.087775  -0.263876\n",
       "3      9.699381  10.082569  -0.383188\n",
       "4     10.106707  10.077369   0.029338"
      ]
     },
     "execution_count": 9,
     "metadata": {},
     "output_type": "execute_result"
    }
   ],
   "source": [
    "ts.detrend(method='Lowess', span=0.2)\n",
    "ts.state.head()"
   ]
  },
  {
   "cell_type": "markdown",
   "metadata": {},
   "source": [
    "This can be plotted directly from a pandas DataFrame with the command:"
   ]
  },
  {
   "cell_type": "code",
   "execution_count": 10,
   "metadata": {},
   "outputs": [
    {
     "data": {
      "image/png": "[encoded data removed]",
      "text/plain": [
       "<Figure size 432x288 with 1 Axes>"
      ]
     },
     "metadata": {
      "needs_background": "light"
     },
     "output_type": "display_data"
    }
   ],
   "source": [
    "ts.state[['state','smoothing']].plot();"
   ]
  },
  {
   "cell_type": "markdown",
   "metadata": {},
   "source": [
    "## Compute CSD-based early warning signals (EWS)\n",
    "\n",
    "There are many time series metrics that can indicate critical slowing down (CSD), thus providing a warning for a bifurcation. We refer to these metrics as CSD-based EWS. They are computed over a rolling window with a size defined by the user. The rolling window can be given as a proporiton of the pre-transition data, or an absolute number of data points. If you chose to detrend, EWS will be computed on the residual data. Otherwise, EWS will be computed on the raw data.\n",
    "\n",
    "The table below lists the CSD-based EWS that can be computed by *ewstools* and their associated method:\n",
    "\n",
    "| EWS  | Method | Notes |\n",
    "| ------------- | ------------- | -------------- |\n",
    "| variance  | [compute_var( )](https://ewstools.readthedocs.io/en/latest/ewstools.html#ewstools.core.TimeSeries.compute_var)  | Second moment of the data |\n",
    "| standard deviation | compute_std( ) | Square root of the variance |\n",
    "| coefficient of variation | comptue_cv( ) | Standard deviation divided by the mean (of the undetrended time series) | \n",
    "| skewness | compute_skew( )  | Standardised third moment of the data |\n",
    "| kurtosis | compute_kurt( )  | Standardised fourth moment of the data |\n",
    "| lag-tau autocorrelation | compute_ac( lag=tau )  | Correlation between the data and a shifted version (by tau) of itself |\n",
    "\n",
    "There also exist EWS based on the power spectrum of a time series, however we have saved these for a later tutorial as they require the extra step of computing the power spectrum. Let's compute the variance, lag-1 autocorrelation and skew of our residual data prior to the fold bifurcation:"
   ]
  },
  {
   "cell_type": "code",
   "execution_count": 11,
   "metadata": {},
   "outputs": [],
   "source": [
    "# Define rolling window length\n",
    "rw = 0.5\n",
    "ts.compute_var(rolling_window=rw)\n",
    "ts.compute_auto(rolling_window=rw, lag=1)\n",
    "ts.compute_skew(rolling_window=rw)"
   ]
  },
  {
   "cell_type": "markdown",
   "metadata": {},
   "source": [
    "This will fill up the *ews* attribute of the TimeSeries object. Let's preview the dataframe now, and do a quick plot in pandas matplotlib."
   ]
  },
  {
   "cell_type": "code",
   "execution_count": 12,
   "metadata": {
    "scrolled": false
   },
   "outputs": [
    {
     "data": {
      "text/html": [
       "<div>\n",
       "<style scoped>\n",
       "    .dataframe tbody tr th:only-of-type {\n",
       "        vertical-align: middle;\n",
       "    }\n",
       "\n",
       "    .dataframe tbody tr th {\n",
       "        vertical-align: top;\n",
       "    }\n",
       "\n",
       "    .dataframe thead th {\n",
       "        text-align: right;\n",
       "    }\n",
       "</style>\n",
       "<table border=\"1\" class=\"dataframe\">\n",
       "  <thead>\n",
       "    <tr style=\"text-align: right;\">\n",
       "      <th></th>\n",
       "      <th>variance</th>\n",
       "      <th>ac1</th>\n",
       "      <th>skew</th>\n",
       "    </tr>\n",
       "    <tr>\n",
       "      <th>time</th>\n",
       "      <th></th>\n",
       "      <th></th>\n",
       "      <th></th>\n",
       "    </tr>\n",
       "  </thead>\n",
       "  <tbody>\n",
       "    <tr>\n",
       "      <th>419</th>\n",
       "      <td>0.041357</td>\n",
       "      <td>0.309390</td>\n",
       "      <td>0.123536</td>\n",
       "    </tr>\n",
       "    <tr>\n",
       "      <th>420</th>\n",
       "      <td>0.041808</td>\n",
       "      <td>0.312752</td>\n",
       "      <td>0.129628</td>\n",
       "    </tr>\n",
       "    <tr>\n",
       "      <th>421</th>\n",
       "      <td>0.041630</td>\n",
       "      <td>0.321098</td>\n",
       "      <td>0.128387</td>\n",
       "    </tr>\n",
       "    <tr>\n",
       "      <th>422</th>\n",
       "      <td>0.041475</td>\n",
       "      <td>0.316087</td>\n",
       "      <td>0.127936</td>\n",
       "    </tr>\n",
       "    <tr>\n",
       "      <th>423</th>\n",
       "      <td>0.041368</td>\n",
       "      <td>0.318582</td>\n",
       "      <td>0.133086</td>\n",
       "    </tr>\n",
       "  </tbody>\n",
       "</table>\n",
       "</div>"
      ],
      "text/plain": [
       "      variance       ac1      skew\n",
       "time                              \n",
       "419   0.041357  0.309390  0.123536\n",
       "420   0.041808  0.312752  0.129628\n",
       "421   0.041630  0.321098  0.128387\n",
       "422   0.041475  0.316087  0.127936\n",
       "423   0.041368  0.318582  0.133086"
      ]
     },
     "execution_count": 12,
     "metadata": {},
     "output_type": "execute_result"
    }
   ],
   "source": [
    "ts.ews.dropna().head()"
   ]
  },
  {
   "cell_type": "code",
   "execution_count": 13,
   "metadata": {},
   "outputs": [
    {
     "data": {
      "image/png": "[encoded data removed]",
      "text/plain": [
       "<Figure size 432x288 with 1 Axes>"
      ]
     },
     "metadata": {
      "needs_background": "light"
     },
     "output_type": "display_data"
    }
   ],
   "source": [
    "ts.ews.plot(xlim=(0,1000));"
   ]
  },
  {
   "cell_type": "markdown",
   "metadata": {},
   "source": [
    "## Measure the trend of the EWS with Kendall tau"
   ]
  },
  {
   "cell_type": "markdown",
   "metadata": {},
   "source": [
    "For this time series, we see roughly increasing trends in the EWS as a result of the critical slowing down phenomena. A useful way to measure the increasing/decreasing tendancy of a trend, is to compute the Kendall tau correlation between the signal and time. Kendall tau values can be computed in *ewstools* with the method [*compute_ktau( )*](https://ewstools.readthedocs.io/en/latest/ewstools.html#ewstools.core.TimeSeries.compute_ktau)."
   ]
  },
  {
   "cell_type": "code",
   "execution_count": 14,
   "metadata": {},
   "outputs": [],
   "source": [
    "ts.compute_ktau()"
   ]
  },
  {
   "cell_type": "markdown",
   "metadata": {},
   "source": [
    "Now the *ktau* attribute should be filled with the Kendall tau value for each EWS computed."
   ]
  },
  {
   "cell_type": "code",
   "execution_count": 15,
   "metadata": {
    "scrolled": true
   },
   "outputs": [
    {
     "data": {
      "text/plain": [
       "{'variance': 0.30715628553095203,\n",
       " 'ac1': 0.8100663056815751,\n",
       " 'skew': -0.5270344812058854}"
      ]
     },
     "execution_count": 15,
     "metadata": {},
     "output_type": "execute_result"
    }
   ],
   "source": [
    "ts.ktau"
   ]
  },
  {
   "cell_type": "markdown",
   "metadata": {},
   "source": [
    "The positive values indicate increasing trends. Negative values would indicate decreasing trends. A maximal (minimal) Kendall tau value of 1 (-1) indicates that every subsequent point takes a larger (smaller) value."
   ]
  },
  {
   "cell_type": "markdown",
   "metadata": {},
   "source": [
    "## Visualise output of *ewstools*"
   ]
  },
  {
   "cell_type": "markdown",
   "metadata": {},
   "source": [
    "You can obtain the output data through the attributes *state* and *ews* to create a basic plot using software such as matplotlib:"
   ]
  },
  {
   "cell_type": "code",
   "execution_count": 16,
   "metadata": {
    "scrolled": true
   },
   "outputs": [
    {
     "data": {
      "image/png": "[encoded data removed]",
      "text/plain": [
       "<Figure size 432x432 with 4 Axes>"
      ]
     },
     "metadata": {
      "needs_background": "light"
     },
     "output_type": "display_data"
    }
   ],
   "source": [
    "fig1, axes = plt.subplots(nrows=4, ncols=1, figsize=(6,6), sharex=True)\n",
    "ts.state[['state','smoothing']].plot(ax=axes[0])\n",
    "ts.ews['variance'].plot(ax=axes[1],legend=True)\n",
    "ts.ews['ac1'].plot(ax=axes[2],legend=True);\n",
    "ts.ews['skew'].plot(ax=axes[3],legend=True);"
   ]
  },
  {
   "cell_type": "markdown",
   "metadata": {},
   "source": [
    "Alternatively, there is the method *make_plotly( )* that outputs an interactive [Plotly](https://plotly.com/) figure."
   ]
  },
  {
   "cell_type": "code",
   "execution_count": 17,
   "metadata": {},
   "outputs": [],
   "source": [
    "import plotly.express as px"
   ]
  },
  {
   "cell_type": "code",
   "execution_count": 22,
   "metadata": {},
   "outputs": [],
   "source": [
    "x = np.arange(10)\n",
    "y = x**2\n",
    "df = pd.DataFrame(dict(x=x, y=y))"
   ]
  },
  {
   "cell_type": "code",
   "execution_count": null,
   "metadata": {},
   "outputs": [],
   "source": []
  }
 ],
 "metadata": {
  "kernelspec": {
   "display_name": "Python 3 (ipykernel)",
   "language": "python",
   "name": "python3"
  },
  "language_info": {
   "codemirror_mode": {
    "name": "ipython",
    "version": 3
   },
   "file_extension": ".py",
   "mimetype": "text/x-python",
   "name": "python",
   "nbconvert_exporter": "python",
   "pygments_lexer": "ipython3",
   "version": "3.10.5"
  }
 },
 "nbformat": 4,
 "nbformat_minor": 2
}
