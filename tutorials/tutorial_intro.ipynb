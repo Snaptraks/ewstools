{
 "cells": [
  {
   "cell_type": "markdown",
   "metadata": {},
   "source": [
    "# Introductory tutorial for using *ewstools*\n",
    "\n",
    "By the end of this tutorial you should know how to:\n",
    "- Put your data into an *ewstools* TimeSeries object\n",
    "- Detrend your data using a specific filter and bandwidth\n",
    "- Compute CSD-based early warning signals and Kendall tau values\n",
    "- Get predictions from the DL classifiers trained in the article by [Bury et al. (2021)](https://www.pnas.org/doi/10.1073/pnas.2106140118)\n",
    "- Obtain and visualise the output from *ewstools*\n",
    "\n",
    "Total run time : 2 min 18 s on Macbook Air (M1, 2020)\n"
   ]
  },
  {
   "cell_type": "markdown",
   "metadata": {},
   "source": [
    "## Import libraries\n",
    "The following libraries are necessary installations for this script"
   ]
  },
  {
   "cell_type": "code",
   "execution_count": 1,
   "metadata": {},
   "outputs": [],
   "source": [
    "# Start timer to record execution time of notebook\n",
    "import time\n",
    "start_time = time.time()"
   ]
  },
  {
   "cell_type": "code",
   "execution_count": 2,
   "metadata": {},
   "outputs": [],
   "source": [
    "import numpy as np\n",
    "import pandas as pd\n",
    "import matplotlib.pyplot as plt\n",
    "import os\n",
    "import ewstools"
   ]
  },
  {
   "cell_type": "code",
   "execution_count": 3,
   "metadata": {},
   "outputs": [],
   "source": [
    "# Tensorflow imports\n",
    "import tensorflow as tf\n",
    "tf.compat.v1.logging.set_verbosity(tf.compat.v1.logging.ERROR) # comment out to see TensorFlow warnings \n",
    "from tensorflow.keras.models import load_model"
   ]
  },
  {
   "cell_type": "markdown",
   "metadata": {},
   "source": [
    "## Gather data - simulation of Ricker model\n",
    "\n",
    "We will use a simulation of the Ricker model going through a fold bifurcation to demonstrate the process of using *ewstools*."
   ]
  },
  {
   "cell_type": "markdown",
   "metadata": {},
   "source": [
    "**Set simulation parameters**"
   ]
  },
  {
   "cell_type": "code",
   "execution_count": 4,
   "metadata": {},
   "outputs": [],
   "source": [
    "tmax = 500 # number of iterations\n",
    "tburn = 100 # burn-in period to remove transients\n",
    "seed = 0 # random number generation seed (set for reproducibility)\n",
    "np.random.seed(seed)"
   ]
  },
  {
   "cell_type": "markdown",
   "metadata": {},
   "source": [
    "**Define model**\n",
    "\n",
    "We use the Ricker model with a Holling Type II harvesting term and additive white noise. It is given by\n",
    "$$ N_{t+1} = N_t e^{(r(1-N_t/K) + \\sigma\\epsilon_t} ) - F\\frac{N_t^2}{N_t^2 + h^2}$$\n",
    "where $N_t$ is the population size at time $t$, $r$ is the intrinsic growth rate, $K$ is the carrying capacity, $F$ is the maximum rate of harvesting, $h$ is the half saturation constant of the harvesting term, $\\sigma$ is the noise amplitude, and $\\epsilon_t$ is a normal random variable with zero mean and unit variance."
   ]
  },
  {
   "cell_type": "code",
   "execution_count": 5,
   "metadata": {},
   "outputs": [],
   "source": [
    "# Define the map\n",
    "def de_fun(x,r,k,f,h,xi):\n",
    "    return x*np.exp(r*(1-x/k)+xi) - f*x**2/(x**2+h**2)"
   ]
  },
  {
   "cell_type": "markdown",
   "metadata": {},
   "source": [
    "**Set model parmaeters**"
   ]
  },
  {
   "cell_type": "code",
   "execution_count": 6,
   "metadata": {},
   "outputs": [],
   "source": [
    "r = 0.75 # growth rate\n",
    "k = 10 # carrying capacity\n",
    "h = 0.75 # half-saturation constant of harvesting function\n",
    "bl = 0 # bifurcation parameter (harvesting) low\n",
    "bh = 2.7 # bifurcation parameter (harvesting) high\n",
    "bcrit = 2.364 # fold bifurcation point (computed using XPPAUT)\n",
    "sigma = 0.02 # noise intensity\n",
    "x0 = 0.8 # initial condition"
   ]
  },
  {
   "cell_type": "markdown",
   "metadata": {},
   "source": [
    "**Initialisation**"
   ]
  },
  {
   "cell_type": "code",
   "execution_count": 7,
   "metadata": {},
   "outputs": [],
   "source": [
    "# Initialise arrays for time and state values\n",
    "t = np.arange(0,tmax)\n",
    "x = np.zeros(len(t))\n",
    "\n",
    "# Bifurcation parameter values (increasing linearly in time)\n",
    "b = pd.Series(np.linspace(bl,bh,len(t)),index=t)\n",
    "\n",
    "# Get time at which bifurcation is crossed\n",
    "tbif = b[b > bcrit].index[1]\n",
    "\n",
    "# Array of noise values (normal random variables with variance sigma^2)\n",
    "dW_burn = np.random.normal(loc=0, scale=sigma, size = int(tburn)) # burn-in period\n",
    "dW = np.random.normal(loc=0, scale=sigma, size = len(t)) # monitored period"
   ]
  },
  {
   "cell_type": "markdown",
   "metadata": {},
   "source": [
    "**Run simulation**"
   ]
  },
  {
   "cell_type": "code",
   "execution_count": 8,
   "metadata": {},
   "outputs": [],
   "source": [
    "# Run burn-in period starting from intiial condition x0\n",
    "for i in range(int(tburn)):\n",
    "    x0 = de_fun(x0,r,k,bl,h,dW_burn[i])\n",
    "\n",
    "# State value post burn-in period. Set as starting value.\n",
    "x[0]=x0\n",
    "\n",
    "# Iterate the map\n",
    "for i in range(len(t)-1):\n",
    "    x[i+1] = de_fun(x[i],r,k,b.iloc[i], h,dW[i])\n",
    "    # Reset the state variable to zero if it goes negative\n",
    "    if x[i+1] < 0:\n",
    "        x[i+1] = 0\n",
    "\n",
    "# Store data as a pandas series\n",
    "series = pd.Series(data=x, index=t, name='x')\n",
    "series.index.name = 'time'"
   ]
  },
  {
   "cell_type": "markdown",
   "metadata": {},
   "source": [
    "We now have a pandas Series contianing our simulation, indexed by time. We can plot it directly from pandas as follows:"
   ]
  },
  {
   "cell_type": "code",
   "execution_count": 9,
   "metadata": {
    "scrolled": false
   },
   "outputs": [
    {
     "data": {
      "image/png": "[encoded data removed]",
      "text/plain": [
       "<Figure size 432x288 with 1 Axes>"
      ]
     },
     "metadata": {
      "needs_background": "light"
     },
     "output_type": "display_data"
    }
   ],
   "source": [
    "series.plot();"
   ]
  },
  {
   "cell_type": "markdown",
   "metadata": {},
   "source": [
    "## Initialise a TimeSeries object\n",
    "\n",
    "Before computing EWS with *ewstools*, it is necessary to place your data inside a TimeSeries object. Your data can be in the form of a python list, a numpy array, or a pandas series. In the case of a pandas series, the index of your data will be carried forward throughout the analysis, which is preferable if you don't want arbitrary time points. You can also enter a transition time (optional), beyond which early warning signals will not be computed. Here we will enter a transtion time as the time at which the bifurcation parameter crosses the bifurcation."
   ]
  },
  {
   "cell_type": "code",
   "execution_count": 10,
   "metadata": {},
   "outputs": [],
   "source": [
    "ts = ewstools.TimeSeries(data=series, transition=tbif)"
   ]
  },
  {
   "cell_type": "markdown",
   "metadata": {},
   "source": [
    "The TimeSeries object has several attributes worth knowing about:\n",
    "\n",
    "| Attribute | Type | Notes |\n",
    "| :- | :- | :- |\n",
    "| transition  | float | transition time (if defined) | \n",
    "| state  | pd.DataFrame | dataframe containing raw time series data and any detrending | \n",
    "| ews  | pd.DataFrame | dataframe containing any EWS computed | \n",
    "| ktau  | dict | dictionary containing Kendall tau values | \n",
    "| dl_preds  | pd.DataFrame | dataframe containing predictions from deep learning classifiers | \n",
    "\n"
   ]
  },
  {
   "cell_type": "markdown",
   "metadata": {},
   "source": [
    "To begin with, these attributes should all be empty, except for *transition* (if defined) and *state*, where you should see your data:"
   ]
  },
  {
   "cell_type": "code",
   "execution_count": 11,
   "metadata": {
    "scrolled": true
   },
   "outputs": [
    {
     "data": {
      "text/html": [
       "<div>\n",
       "<style scoped>\n",
       "    .dataframe tbody tr th:only-of-type {\n",
       "        vertical-align: middle;\n",
       "    }\n",
       "\n",
       "    .dataframe tbody tr th {\n",
       "        vertical-align: top;\n",
       "    }\n",
       "\n",
       "    .dataframe thead th {\n",
       "        text-align: right;\n",
       "    }\n",
       "</style>\n",
       "<table border=\"1\" class=\"dataframe\">\n",
       "  <thead>\n",
       "    <tr style=\"text-align: right;\">\n",
       "      <th></th>\n",
       "      <th>state</th>\n",
       "    </tr>\n",
       "    <tr>\n",
       "      <th>time</th>\n",
       "      <th></th>\n",
       "    </tr>\n",
       "  </thead>\n",
       "  <tbody>\n",
       "    <tr>\n",
       "      <th>0</th>\n",
       "      <td>10.108574</td>\n",
       "    </tr>\n",
       "    <tr>\n",
       "      <th>1</th>\n",
       "      <td>10.411427</td>\n",
       "    </tr>\n",
       "    <tr>\n",
       "      <th>2</th>\n",
       "      <td>9.821205</td>\n",
       "    </tr>\n",
       "    <tr>\n",
       "      <th>3</th>\n",
       "      <td>9.693295</td>\n",
       "    </tr>\n",
       "    <tr>\n",
       "      <th>4</th>\n",
       "      <td>10.096900</td>\n",
       "    </tr>\n",
       "  </tbody>\n",
       "</table>\n",
       "</div>"
      ],
      "text/plain": [
       "          state\n",
       "time           \n",
       "0     10.108574\n",
       "1     10.411427\n",
       "2      9.821205\n",
       "3      9.693295\n",
       "4     10.096900"
      ]
     },
     "execution_count": 11,
     "metadata": {},
     "output_type": "execute_result"
    }
   ],
   "source": [
    "ts.state.head()"
   ]
  },
  {
   "cell_type": "markdown",
   "metadata": {},
   "source": [
    "## Detrend the data (if necessary)\n",
    "\n",
    "You can detrend your data with either a Lowess or a Gaussian filter. You'll need to select a bandwidth (for Gaussian) or a span (for Lowess). Advice on choosing an appropriate parameters for detrending can be found in [Dakos et al. (2012)](https://journals.plos.org/plosone/article?id=10.1371/journal.pone.0041010). Note you can define your bandwidth/span as either an absolute number of data points, or a proportion of the number of data points prior to the transition."
   ]
  },
  {
   "cell_type": "markdown",
   "metadata": {},
   "source": [
    "Let's detrend our data using a Lowess filter with a span of 0.2. After applying the method *detrend*() to the TimeSeries class, we see that the attribute *state* contains the smoothed time series and residuals."
   ]
  },
  {
   "cell_type": "code",
   "execution_count": 12,
   "metadata": {
    "scrolled": false
   },
   "outputs": [
    {
     "data": {
      "text/html": [
       "<div>\n",
       "<style scoped>\n",
       "    .dataframe tbody tr th:only-of-type {\n",
       "        vertical-align: middle;\n",
       "    }\n",
       "\n",
       "    .dataframe tbody tr th {\n",
       "        vertical-align: top;\n",
       "    }\n",
       "\n",
       "    .dataframe thead th {\n",
       "        text-align: right;\n",
       "    }\n",
       "</style>\n",
       "<table border=\"1\" class=\"dataframe\">\n",
       "  <thead>\n",
       "    <tr style=\"text-align: right;\">\n",
       "      <th></th>\n",
       "      <th>state</th>\n",
       "      <th>smoothing</th>\n",
       "      <th>residuals</th>\n",
       "    </tr>\n",
       "    <tr>\n",
       "      <th>time</th>\n",
       "      <th></th>\n",
       "      <th></th>\n",
       "      <th></th>\n",
       "    </tr>\n",
       "  </thead>\n",
       "  <tbody>\n",
       "    <tr>\n",
       "      <th>0</th>\n",
       "      <td>10.108574</td>\n",
       "      <td>10.156787</td>\n",
       "      <td>-0.048214</td>\n",
       "    </tr>\n",
       "    <tr>\n",
       "      <th>1</th>\n",
       "      <td>10.411427</td>\n",
       "      <td>10.146395</td>\n",
       "      <td>0.265031</td>\n",
       "    </tr>\n",
       "    <tr>\n",
       "      <th>2</th>\n",
       "      <td>9.821205</td>\n",
       "      <td>10.135997</td>\n",
       "      <td>-0.314792</td>\n",
       "    </tr>\n",
       "    <tr>\n",
       "      <th>3</th>\n",
       "      <td>9.693295</td>\n",
       "      <td>10.125591</td>\n",
       "      <td>-0.432296</td>\n",
       "    </tr>\n",
       "    <tr>\n",
       "      <th>4</th>\n",
       "      <td>10.096900</td>\n",
       "      <td>10.115179</td>\n",
       "      <td>-0.018280</td>\n",
       "    </tr>\n",
       "  </tbody>\n",
       "</table>\n",
       "</div>"
      ],
      "text/plain": [
       "          state  smoothing  residuals\n",
       "time                                 \n",
       "0     10.108574  10.156787  -0.048214\n",
       "1     10.411427  10.146395   0.265031\n",
       "2      9.821205  10.135997  -0.314792\n",
       "3      9.693295  10.125591  -0.432296\n",
       "4     10.096900  10.115179  -0.018280"
      ]
     },
     "execution_count": 12,
     "metadata": {},
     "output_type": "execute_result"
    }
   ],
   "source": [
    "ts.detrend(method='Lowess', span=0.2)\n",
    "ts.state.head()"
   ]
  },
  {
   "cell_type": "markdown",
   "metadata": {},
   "source": [
    "This can be plotted directly from a pandas DataFrame with the command:"
   ]
  },
  {
   "cell_type": "code",
   "execution_count": 13,
   "metadata": {},
   "outputs": [
    {
     "data": {
      "image/png": "[encoded data removed]",
      "text/plain": [
       "<Figure size 432x288 with 1 Axes>"
      ]
     },
     "metadata": {
      "needs_background": "light"
     },
     "output_type": "display_data"
    }
   ],
   "source": [
    "ts.state[['state','smoothing']].plot();"
   ]
  },
  {
   "cell_type": "markdown",
   "metadata": {},
   "source": [
    "## Compute CSD-based early warning signals (EWS)\n",
    "\n",
    "There are many signals in a time series that can indicate critical slowing down (CSD), thus providing a warning for a bifurcation. We refer to them as CSD-based EWS. They are computed over a rolling window with a size defined by the user. The rolling window can be given as a proporiton of the pre-bifurcation data, or an absolute number of data points. If you chose to detrend, EWS will be computed on the residual data. Otherwise, EWS will be computed on the raw data.\n",
    "\n",
    "The table below lists the CSD-based EWS that can be computed by *ewstools* and their associated method:\n",
    "\n",
    "| EWS  | Method | Notes |\n",
    "| ------------- | ------------- | -------------- |\n",
    "| variance  | compute_var( )  | Second moment of the data |\n",
    "| skewness | compute_skew( )  | Standardised third moment of the data |\n",
    "| kurtosis | compute_kurt( )  | Standardised fourth moment of the data |\n",
    "| lag-tau autocorrelation | compute_ac( lag=tau )  | Correlation between the data and a shifted version (by tau) of itself |\n",
    "\n",
    "Let's compute the variance, lag-1 autocorrelation and skew of our residual data prior to the fold bifurcation:"
   ]
  },
  {
   "cell_type": "code",
   "execution_count": 14,
   "metadata": {},
   "outputs": [],
   "source": [
    "# Define rolling window length\n",
    "rw = 0.5\n",
    "ts.compute_var(rolling_window=rw)\n",
    "ts.compute_auto(rolling_window=rw, lag=1)\n",
    "ts.compute_skew(rolling_window=rw)"
   ]
  },
  {
   "cell_type": "markdown",
   "metadata": {},
   "source": [
    "This will fill up the *ews* dataframe in the TimeSeries object. Let's take a look:"
   ]
  },
  {
   "cell_type": "code",
   "execution_count": 15,
   "metadata": {
    "scrolled": false
   },
   "outputs": [
    {
     "data": {
      "text/html": [
       "<div>\n",
       "<style scoped>\n",
       "    .dataframe tbody tr th:only-of-type {\n",
       "        vertical-align: middle;\n",
       "    }\n",
       "\n",
       "    .dataframe tbody tr th {\n",
       "        vertical-align: top;\n",
       "    }\n",
       "\n",
       "    .dataframe thead th {\n",
       "        text-align: right;\n",
       "    }\n",
       "</style>\n",
       "<table border=\"1\" class=\"dataframe\">\n",
       "  <thead>\n",
       "    <tr style=\"text-align: right;\">\n",
       "      <th></th>\n",
       "      <th>variance</th>\n",
       "      <th>ac1</th>\n",
       "      <th>skew</th>\n",
       "    </tr>\n",
       "    <tr>\n",
       "      <th>time</th>\n",
       "      <th></th>\n",
       "      <th></th>\n",
       "      <th></th>\n",
       "    </tr>\n",
       "  </thead>\n",
       "  <tbody>\n",
       "    <tr>\n",
       "      <th>218</th>\n",
       "      <td>0.036102</td>\n",
       "      <td>0.195098</td>\n",
       "      <td>0.147549</td>\n",
       "    </tr>\n",
       "    <tr>\n",
       "      <th>219</th>\n",
       "      <td>0.036089</td>\n",
       "      <td>0.197699</td>\n",
       "      <td>0.143287</td>\n",
       "    </tr>\n",
       "    <tr>\n",
       "      <th>220</th>\n",
       "      <td>0.035777</td>\n",
       "      <td>0.210631</td>\n",
       "      <td>0.151046</td>\n",
       "    </tr>\n",
       "    <tr>\n",
       "      <th>221</th>\n",
       "      <td>0.035353</td>\n",
       "      <td>0.196056</td>\n",
       "      <td>0.159113</td>\n",
       "    </tr>\n",
       "    <tr>\n",
       "      <th>222</th>\n",
       "      <td>0.034595</td>\n",
       "      <td>0.198758</td>\n",
       "      <td>0.200644</td>\n",
       "    </tr>\n",
       "  </tbody>\n",
       "</table>\n",
       "</div>"
      ],
      "text/plain": [
       "      variance       ac1      skew\n",
       "time                              \n",
       "218   0.036102  0.195098  0.147549\n",
       "219   0.036089  0.197699  0.143287\n",
       "220   0.035777  0.210631  0.151046\n",
       "221   0.035353  0.196056  0.159113\n",
       "222   0.034595  0.198758  0.200644"
      ]
     },
     "execution_count": 15,
     "metadata": {},
     "output_type": "execute_result"
    }
   ],
   "source": [
    "ts.ews.dropna().head()"
   ]
  },
  {
   "cell_type": "markdown",
   "metadata": {},
   "source": [
    "Note the first values of this dataframe are Nan as a rolling window is used. Let's visualise the trajectory and EWS together using matplotlib:"
   ]
  },
  {
   "cell_type": "code",
   "execution_count": 16,
   "metadata": {
    "scrolled": false
   },
   "outputs": [
    {
     "data": {
      "image/png": "[encoded data removed]",
      "text/plain": [
       "<Figure size 432x432 with 4 Axes>"
      ]
     },
     "metadata": {
      "needs_background": "light"
     },
     "output_type": "display_data"
    }
   ],
   "source": [
    "fig1, axes = plt.subplots(nrows=4, ncols=1, figsize=(6,6), sharex=True)\n",
    "ts.state[['state','smoothing']].plot(ax=axes[0])\n",
    "ts.ews['variance'].plot(ax=axes[1],legend=True)\n",
    "ts.ews['ac1'].plot(ax=axes[2],legend=True);\n",
    "ts.ews['skew'].plot(ax=axes[3],legend=True);"
   ]
  },
  {
   "cell_type": "markdown",
   "metadata": {},
   "source": [
    "The variance and lag-1 autocorrelation show an increasing trend as a result of the critical slowing down phenomena that occurs prior to the bifurcation. The trend is the skew is less evident. One way to measure an increasing or decreasing trend is with the Kendall tau value. We can compute Kendall tau value for each EWS computed using the command:"
   ]
  },
  {
   "cell_type": "code",
   "execution_count": 17,
   "metadata": {},
   "outputs": [],
   "source": [
    "ts.compute_ktau()"
   ]
  },
  {
   "cell_type": "markdown",
   "metadata": {},
   "source": [
    "Now the *ktau* attribute should be filled."
   ]
  },
  {
   "cell_type": "code",
   "execution_count": 18,
   "metadata": {},
   "outputs": [
    {
     "data": {
      "text/plain": [
       "{'variance': 0.7246400658165365,\n",
       " 'ac1': 0.9515425750719869,\n",
       " 'skew': -0.2567667626491156}"
      ]
     },
     "execution_count": 18,
     "metadata": {},
     "output_type": "execute_result"
    }
   ],
   "source": [
    "ts.ktau"
   ]
  },
  {
   "cell_type": "markdown",
   "metadata": {},
   "source": [
    "If you are interested in computing the Kendall tau value between two specific times, this can also be specified with tmin and tmax, which are automatically set at the earliest and latest time present in the EWS trajectories. "
   ]
  },
  {
   "cell_type": "code",
   "execution_count": 19,
   "metadata": {},
   "outputs": [
    {
     "data": {
      "text/plain": [
       "{'variance': 0.34588235294117653,\n",
       " 'ac1': 0.7192156862745099,\n",
       " 'skew': -0.10117647058823531}"
      ]
     },
     "execution_count": 19,
     "metadata": {},
     "output_type": "execute_result"
    }
   ],
   "source": [
    "ts.compute_ktau(tmin=300, tmax=350)\n",
    "ts.ktau"
   ]
  },
  {
   "cell_type": "markdown",
   "metadata": {},
   "source": [
    "## Compute DL classifier predictions"
   ]
  },
  {
   "cell_type": "markdown",
   "metadata": {},
   "source": [
    "Deep learning classifiers were recently shown to be effective at predicting upcoming bifurcations and their type [(Bury et al. (2020)](https://www.pnas.org/doi/10.1073/pnas.2106140118). *ewstools* has the functionality to apply these types of classifier to time series data. For methods on how these classifiers are trained, please see the paper."
   ]
  },
  {
   "cell_type": "markdown",
   "metadata": {},
   "source": [
    "The method *apply_classifier( )* applies a TensorFlow classifier to the segment of time series data between *tmin* and *tmax* and appends the classification (a vector of probabilites for each class) to *TimeSeries.dl_preds*. The time of the classification is taken as *tmax*. "
   ]
  },
  {
   "cell_type": "markdown",
   "metadata": {},
   "source": [
    "Let's import a classifier that was trained in the study by [Bury et al.](https://www.pnas.org/doi/10.1073/pnas.2106140118), and apply it to the Ricker model simulation. For the classifiers in the study, the key is as follows:\n",
    "\n",
    "| Key | Trajectory |\n",
    "| :- | :- |\n",
    "| 0 | fold bifurcation |\n",
    "| 1 | Hopf bifurcation | \n",
    "| 2 | transcritical bifurcation |\n",
    "| 3 | null |"
   ]
  },
  {
   "cell_type": "code",
   "execution_count": 20,
   "metadata": {},
   "outputs": [],
   "source": [
    "# Import a classifier\n",
    "classifier_path = '../saved_classifiers/bury_pnas_21/len500/best_model_1_1_len500.pkl'\n",
    "classifier = load_model(classifier_path)"
   ]
  },
  {
   "cell_type": "markdown",
   "metadata": {},
   "source": [
    "Let's apply the classifier to segments of increasing length. Each segment starts at the beginning of the raw time series. Therefore we will take *tmin* to be the start of the time series, and *tmax* to be incrementally larger values up to the transition time."
   ]
  },
  {
   "cell_type": "code",
   "execution_count": 21,
   "metadata": {
    "scrolled": true
   },
   "outputs": [
    {
     "name": "stderr",
     "output_type": "stream",
     "text": [
      "2022-07-07 15:01:37.124846: W tensorflow/core/platform/profile_utils/cpu_utils.cc:128] Failed to get CPU frequency: 0 Hz\n"
     ]
    }
   ],
   "source": [
    "tmin = ts.state.index[0]\n",
    "tmax_vals = np.arange(ts.state.index[50], ts.transition, 10)\n",
    "# Apply the classifier for each value of tmax\n",
    "for tmax in tmax_vals:\n",
    "    ts.apply_classifier(classifier, name='c1', tmin=tmin, tmax=tmax, verbose=0)"
   ]
  },
  {
   "cell_type": "markdown",
   "metadata": {},
   "source": [
    "The attribute *dl_preds* should now contain those predictions:"
   ]
  },
  {
   "cell_type": "code",
   "execution_count": 22,
   "metadata": {
    "scrolled": true
   },
   "outputs": [
    {
     "data": {
      "text/html": [
       "<div>\n",
       "<style scoped>\n",
       "    .dataframe tbody tr th:only-of-type {\n",
       "        vertical-align: middle;\n",
       "    }\n",
       "\n",
       "    .dataframe tbody tr th {\n",
       "        vertical-align: top;\n",
       "    }\n",
       "\n",
       "    .dataframe thead th {\n",
       "        text-align: right;\n",
       "    }\n",
       "</style>\n",
       "<table border=\"1\" class=\"dataframe\">\n",
       "  <thead>\n",
       "    <tr style=\"text-align: right;\">\n",
       "      <th></th>\n",
       "      <th>0</th>\n",
       "      <th>1</th>\n",
       "      <th>2</th>\n",
       "      <th>3</th>\n",
       "      <th>time</th>\n",
       "      <th>classifier</th>\n",
       "    </tr>\n",
       "  </thead>\n",
       "  <tbody>\n",
       "    <tr>\n",
       "      <th>0</th>\n",
       "      <td>0.299638</td>\n",
       "      <td>0.023478</td>\n",
       "      <td>0.178145</td>\n",
       "      <td>0.498740</td>\n",
       "      <td>50.0</td>\n",
       "      <td>c1</td>\n",
       "    </tr>\n",
       "    <tr>\n",
       "      <th>1</th>\n",
       "      <td>0.200860</td>\n",
       "      <td>0.010259</td>\n",
       "      <td>0.166766</td>\n",
       "      <td>0.622115</td>\n",
       "      <td>60.0</td>\n",
       "      <td>c1</td>\n",
       "    </tr>\n",
       "    <tr>\n",
       "      <th>2</th>\n",
       "      <td>0.160742</td>\n",
       "      <td>0.004983</td>\n",
       "      <td>0.134223</td>\n",
       "      <td>0.700052</td>\n",
       "      <td>70.0</td>\n",
       "      <td>c1</td>\n",
       "    </tr>\n",
       "    <tr>\n",
       "      <th>3</th>\n",
       "      <td>0.122566</td>\n",
       "      <td>0.003282</td>\n",
       "      <td>0.110675</td>\n",
       "      <td>0.763478</td>\n",
       "      <td>80.0</td>\n",
       "      <td>c1</td>\n",
       "    </tr>\n",
       "    <tr>\n",
       "      <th>4</th>\n",
       "      <td>0.107802</td>\n",
       "      <td>0.003956</td>\n",
       "      <td>0.138997</td>\n",
       "      <td>0.749245</td>\n",
       "      <td>90.0</td>\n",
       "      <td>c1</td>\n",
       "    </tr>\n",
       "  </tbody>\n",
       "</table>\n",
       "</div>"
      ],
      "text/plain": [
       "          0         1         2         3  time classifier\n",
       "0  0.299638  0.023478  0.178145  0.498740  50.0         c1\n",
       "1  0.200860  0.010259  0.166766  0.622115  60.0         c1\n",
       "2  0.160742  0.004983  0.134223  0.700052  70.0         c1\n",
       "3  0.122566  0.003282  0.110675  0.763478  80.0         c1\n",
       "4  0.107802  0.003956  0.138997  0.749245  90.0         c1"
      ]
     },
     "execution_count": 22,
     "metadata": {},
     "output_type": "execute_result"
    }
   ],
   "source": [
    "ts.dl_preds.head()"
   ]
  },
  {
   "cell_type": "markdown",
   "metadata": {},
   "source": [
    "Let's visualise those DL predictions:"
   ]
  },
  {
   "cell_type": "code",
   "execution_count": 23,
   "metadata": {},
   "outputs": [
    {
     "data": {
      "image/png": "[encoded data removed]",
      "text/plain": [
       "<Figure size 432x432 with 2 Axes>"
      ]
     },
     "metadata": {
      "needs_background": "light"
     },
     "output_type": "display_data"
    }
   ],
   "source": [
    "fig1, axes = plt.subplots(nrows=2, ncols=1, figsize=(6,6), sharex=True)\n",
    "ts.state[['state','smoothing']].plot(ax=axes[0])\n",
    "ts.dl_preds.set_index('time')[[0,1,2,3]].plot(ax=axes[1],legend=True);"
   ]
  },
  {
   "cell_type": "markdown",
   "metadata": {},
   "source": [
    "We should find that the DL classification favours the fold bifurcation ('0') as the bifurcation is approached."
   ]
  },
  {
   "cell_type": "markdown",
   "metadata": {},
   "source": [
    "#### Ensemble modelling\n",
    "\n",
    "The previous predictions were obtained from a single classifier. To improve overall performance, we can use ensemble modelling, which involves taking the average of predictions from multiple classifiers. Let's import all 20 classifiers that were trained in the study by [Bury et al.](https://www.pnas.org/doi/10.1073/pnas.2106140118) (the classifiers that were trained on time series with 500 data points)."
   ]
  },
  {
   "cell_type": "code",
   "execution_count": 24,
   "metadata": {},
   "outputs": [],
   "source": [
    "ts.clear_dl_preds() # we can clear previous DL predictions using this method\n",
    "root_path = '../saved_classifiers/bury_pnas_21/len500/'\n",
    "classifier_names = [name for name in os.listdir(root_path) if name[-4:]=='.pkl']"
   ]
  },
  {
   "cell_type": "code",
   "execution_count": 25,
   "metadata": {},
   "outputs": [
    {
     "name": "stdout",
     "output_type": "stream",
     "text": [
      "Predictions complete for classifier best_model_5_1_len500.pkl\n",
      "Predictions complete for classifier best_model_2_1_len500.pkl\n",
      "Predictions complete for classifier best_model_7_2_len500.pkl\n",
      "Predictions complete for classifier best_model_6_2_len500.pkl\n",
      "Predictions complete for classifier best_model_1_2_len500.pkl\n",
      "Predictions complete for classifier best_model_3_1_len500.pkl\n",
      "Predictions complete for classifier best_model_4_1_len500.pkl\n",
      "Predictions complete for classifier best_model_9_1_len500.pkl\n",
      "Predictions complete for classifier best_model_8_1_len500.pkl\n",
      "Predictions complete for classifier best_model_10_2_len500.pkl\n",
      "Predictions complete for classifier best_model_10_1_len500.pkl\n",
      "Predictions complete for classifier best_model_8_2_len500.pkl\n",
      "Predictions complete for classifier best_model_9_2_len500.pkl\n",
      "Predictions complete for classifier best_model_3_2_len500.pkl\n",
      "Predictions complete for classifier best_model_4_2_len500.pkl\n",
      "Predictions complete for classifier best_model_6_1_len500.pkl\n",
      "Predictions complete for classifier best_model_1_1_len500.pkl\n",
      "Predictions complete for classifier best_model_7_1_len500.pkl\n",
      "Predictions complete for classifier best_model_5_2_len500.pkl\n",
      "Predictions complete for classifier best_model_2_2_len500.pkl\n"
     ]
    }
   ],
   "source": [
    "# Takes ~ 2 minutes to run on Macbook Air (M1, 2020)\n",
    "# Loop through each classifier\n",
    "for classifier_name in classifier_names:\n",
    "    # Import classifier\n",
    "    classifier = load_model(root_path + classifier_name)\n",
    "    # Get DL predictions - note we can provide a classifier name for reference\n",
    "    for tmax in tmax_vals:\n",
    "        ts.apply_classifier(classifier, name=classifier_name, tmin=tmin, tmax=tmax, verbose=0)  \n",
    "    print('Predictions complete for classifier {}'.format(classifier_name))"
   ]
  },
  {
   "cell_type": "markdown",
   "metadata": {},
   "source": [
    "Now *dl_preds* should contain predictions made from multiple classifiers:"
   ]
  },
  {
   "cell_type": "code",
   "execution_count": 26,
   "metadata": {},
   "outputs": [
    {
     "data": {
      "text/plain": [
       "array(['best_model_5_1_len500.pkl', 'best_model_2_1_len500.pkl',\n",
       "       'best_model_7_2_len500.pkl', 'best_model_6_2_len500.pkl',\n",
       "       'best_model_1_2_len500.pkl', 'best_model_3_1_len500.pkl',\n",
       "       'best_model_4_1_len500.pkl', 'best_model_9_1_len500.pkl',\n",
       "       'best_model_8_1_len500.pkl', 'best_model_10_2_len500.pkl',\n",
       "       'best_model_10_1_len500.pkl', 'best_model_8_2_len500.pkl',\n",
       "       'best_model_9_2_len500.pkl', 'best_model_3_2_len500.pkl',\n",
       "       'best_model_4_2_len500.pkl', 'best_model_6_1_len500.pkl',\n",
       "       'best_model_1_1_len500.pkl', 'best_model_7_1_len500.pkl',\n",
       "       'best_model_5_2_len500.pkl', 'best_model_2_2_len500.pkl'],\n",
       "      dtype=object)"
      ]
     },
     "execution_count": 26,
     "metadata": {},
     "output_type": "execute_result"
    }
   ],
   "source": [
    "ts.dl_preds['classifier'].unique()"
   ]
  },
  {
   "cell_type": "markdown",
   "metadata": {},
   "source": [
    "It remains to take the average prediction over all classfiers for each point in time:"
   ]
  },
  {
   "cell_type": "code",
   "execution_count": 27,
   "metadata": {},
   "outputs": [
    {
     "data": {
      "text/html": [
       "<div>\n",
       "<style scoped>\n",
       "    .dataframe tbody tr th:only-of-type {\n",
       "        vertical-align: middle;\n",
       "    }\n",
       "\n",
       "    .dataframe tbody tr th {\n",
       "        vertical-align: top;\n",
       "    }\n",
       "\n",
       "    .dataframe thead th {\n",
       "        text-align: right;\n",
       "    }\n",
       "</style>\n",
       "<table border=\"1\" class=\"dataframe\">\n",
       "  <thead>\n",
       "    <tr style=\"text-align: right;\">\n",
       "      <th></th>\n",
       "      <th>0</th>\n",
       "      <th>1</th>\n",
       "      <th>2</th>\n",
       "      <th>3</th>\n",
       "    </tr>\n",
       "    <tr>\n",
       "      <th>time</th>\n",
       "      <th></th>\n",
       "      <th></th>\n",
       "      <th></th>\n",
       "      <th></th>\n",
       "    </tr>\n",
       "  </thead>\n",
       "  <tbody>\n",
       "    <tr>\n",
       "      <th>50.0</th>\n",
       "      <td>0.183030</td>\n",
       "      <td>0.129234</td>\n",
       "      <td>0.190455</td>\n",
       "      <td>0.497281</td>\n",
       "    </tr>\n",
       "    <tr>\n",
       "      <th>60.0</th>\n",
       "      <td>0.216371</td>\n",
       "      <td>0.092184</td>\n",
       "      <td>0.212938</td>\n",
       "      <td>0.478507</td>\n",
       "    </tr>\n",
       "    <tr>\n",
       "      <th>70.0</th>\n",
       "      <td>0.189128</td>\n",
       "      <td>0.060058</td>\n",
       "      <td>0.197056</td>\n",
       "      <td>0.553758</td>\n",
       "    </tr>\n",
       "    <tr>\n",
       "      <th>80.0</th>\n",
       "      <td>0.193775</td>\n",
       "      <td>0.036351</td>\n",
       "      <td>0.194410</td>\n",
       "      <td>0.575465</td>\n",
       "    </tr>\n",
       "    <tr>\n",
       "      <th>90.0</th>\n",
       "      <td>0.308015</td>\n",
       "      <td>0.029384</td>\n",
       "      <td>0.277292</td>\n",
       "      <td>0.385309</td>\n",
       "    </tr>\n",
       "  </tbody>\n",
       "</table>\n",
       "</div>"
      ],
      "text/plain": [
       "             0         1         2         3\n",
       "time                                        \n",
       "50.0  0.183030  0.129234  0.190455  0.497281\n",
       "60.0  0.216371  0.092184  0.212938  0.478507\n",
       "70.0  0.189128  0.060058  0.197056  0.553758\n",
       "80.0  0.193775  0.036351  0.194410  0.575465\n",
       "90.0  0.308015  0.029384  0.277292  0.385309"
      ]
     },
     "execution_count": 27,
     "metadata": {},
     "output_type": "execute_result"
    }
   ],
   "source": [
    "df_dl_preds_av = ts.dl_preds.groupby(['time']).mean()\n",
    "df_dl_preds_av.head()"
   ]
  },
  {
   "cell_type": "code",
   "execution_count": 28,
   "metadata": {},
   "outputs": [
    {
     "data": {
      "image/png": "[encoded data removed]",
      "text/plain": [
       "<Figure size 432x432 with 2 Axes>"
      ]
     },
     "metadata": {
      "needs_background": "light"
     },
     "output_type": "display_data"
    }
   ],
   "source": [
    "fig1, axes = plt.subplots(nrows=2, ncols=1, figsize=(6,6), sharex=True)\n",
    "ts.state[['state','smoothing']].plot(ax=axes[0])\n",
    "df_dl_preds_av.plot(ax=axes[1],legend=True);"
   ]
  },
  {
   "cell_type": "markdown",
   "metadata": {},
   "source": [
    "That's it! Feel free to copy and play around with this notebook for your own data."
   ]
  },
  {
   "cell_type": "code",
   "execution_count": 29,
   "metadata": {},
   "outputs": [
    {
     "name": "stdout",
     "output_type": "stream",
     "text": [
      "Notebook took 139.4s to run\n"
     ]
    }
   ],
   "source": [
    "# Stop timer\n",
    "end_time = time.time()\n",
    "print('Notebook took {:.1f}s to run'.format(end_time-start_time))"
   ]
  },
  {
   "cell_type": "code",
   "execution_count": null,
   "metadata": {},
   "outputs": [],
   "source": []
  }
 ],
 "metadata": {
  "kernelspec": {
   "display_name": "Python 3 (ipykernel)",
   "language": "python",
   "name": "python3"
  },
  "language_info": {
   "codemirror_mode": {
    "name": "ipython",
    "version": 3
   },
   "file_extension": ".py",
   "mimetype": "text/x-python",
   "name": "python",
   "nbconvert_exporter": "python",
   "pygments_lexer": "ipython3",
   "version": "3.10.5"
  }
 },
 "nbformat": 4,
 "nbformat_minor": 2
}
