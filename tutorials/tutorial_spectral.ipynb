{
 "cells": [
  {
   "cell_type": "markdown",
   "id": "cda81125",
   "metadata": {},
   "source": [
    "# Tutorial : Spectral early warning signals with *ewstools*\n",
    "\n",
    "By the end of this tutorial you should know how to:\n",
    "- Compute spectral early warning signals as in [Bury et al. (2021)](https://royalsocietypublishing.org/doi/full/10.1098/rsif.2020.0482)\n",
    "\n",
    "Total run time : 2 min 18 s on Macbook Air (M1, 2020)\n"
   ]
  },
  {
   "cell_type": "code",
   "execution_count": null,
   "id": "f186bff9",
   "metadata": {},
   "outputs": [],
   "source": []
  }
 ],
 "metadata": {
  "kernelspec": {
   "display_name": "Python 3 (ipykernel)",
   "language": "python",
   "name": "python3"
  },
  "language_info": {
   "codemirror_mode": {
    "name": "ipython",
    "version": 3
   },
   "file_extension": ".py",
   "mimetype": "text/x-python",
   "name": "python",
   "nbconvert_exporter": "python",
   "pygments_lexer": "ipython3",
   "version": "3.10.5"
  }
 },
 "nbformat": 4,
 "nbformat_minor": 5
}
