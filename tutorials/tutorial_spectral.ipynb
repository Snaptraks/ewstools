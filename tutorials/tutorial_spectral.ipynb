{
 "cells": [
  {
   "cell_type": "markdown",
   "id": "cda81125",
   "metadata": {},
   "source": [
    "# Tutorial : Spectral early warning signals with *ewstools*\n",
    "\n",
    "By the end of this tutorial you should know how to:\n",
    "- Compute and visualise the power spectrum over a rolling window\n",
    "- Compute spectral early warning signals as in [Bury et al. (2021) Royal Soc. Interface](https://royalsocietypublishing.org/doi/full/10.1098/rsif.2020.0482)\n",
    "\n",
    "Total run time : X min Y s on Macbook Air (M1, 2020)\n"
   ]
  },
  {
   "cell_type": "markdown",
   "id": "7bc9fcd4",
   "metadata": {},
   "source": [
    "## Import libraries"
   ]
  },
  {
   "cell_type": "code",
   "execution_count": 1,
   "id": "486655ae",
   "metadata": {},
   "outputs": [],
   "source": [
    "# Start timer to record execution time of notebook\n",
    "import time\n",
    "start_time = time.time()"
   ]
  },
  {
   "cell_type": "code",
   "execution_count": 2,
   "id": "365cedac",
   "metadata": {},
   "outputs": [],
   "source": [
    "import numpy as np\n",
    "np.random.seed(0) # Set seed for reproducibility\n",
    "import pandas as pd\n",
    "import matplotlib.pyplot as plt\n",
    "import os\n",
    "\n",
    "import ewstools\n",
    "from ewstools.models import simulate_ricker"
   ]
  },
  {
   "cell_type": "markdown",
   "id": "4ce61554",
   "metadata": {},
   "source": [
    "## Simulate model data"
   ]
  },
  {
   "cell_type": "markdown",
   "id": "5196c89c",
   "metadata": {},
   "source": [
    "The power spectrum of a time series evolves in different ways preceding a Hopf vs. a fold bifurcation (see e.g. [Wiesenfeld (1985)](https://link.springer.com/article/10.1007/BF01010430)). Therefore EWS derived from the power spectrum have the potential to discriminate between these two types of bifurcation. Let's demonstrate this with model simulations. For a fold bifurcation, we will use the Ricker model with a nonlinear harvesting term. For the Hopf bifurcation, we will use the Rosenzweig–MacArthur consumer-resource model."
   ]
  },
  {
   "cell_type": "code",
   "execution_count": null,
   "id": "38629c22",
   "metadata": {},
   "outputs": [],
   "source": []
  }
 ],
 "metadata": {
  "kernelspec": {
   "display_name": "Python 3 (ipykernel)",
   "language": "python",
   "name": "python3"
  },
  "language_info": {
   "codemirror_mode": {
    "name": "ipython",
    "version": 3
   },
   "file_extension": ".py",
   "mimetype": "text/x-python",
   "name": "python",
   "nbconvert_exporter": "python",
   "pygments_lexer": "ipython3",
   "version": "3.10.5"
  }
 },
 "nbformat": 4,
 "nbformat_minor": 5
}
