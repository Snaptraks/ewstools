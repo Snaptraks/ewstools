{
 "cells": [
  {
   "cell_type": "markdown",
   "id": "b86acd6b",
   "metadata": {},
   "source": [
    "# Tutorial: Deep learning with *ewstools*\n",
    "\n",
    "\n",
    "By the end of this tutorial you should know how to:\n",
    "- Get bifurcaiton predictions from the DL classifiers trained in the article by [Bury et al. (2021)](https://royalsocietypublishing.org/doi/full/10.1098/rsif.2020.0482)\n",
    "\n",
    "\n",
    "Total run time : 2 min 18 s on Macbook Air (M1, 2020)"
   ]
  },
  {
   "cell_type": "code",
   "execution_count": null,
   "id": "20704e18",
   "metadata": {},
   "outputs": [],
   "source": [
    "# Start timer to record execution time of notebook\n",
    "import time\n",
    "start_time = time.time()"
   ]
  },
  {
   "cell_type": "code",
   "execution_count": 3,
   "id": "990b6733",
   "metadata": {},
   "outputs": [],
   "source": [
    "import numpy as np\n",
    "import pandas as pd\n",
    "import matplotlib.pyplot as plt\n",
    "import os\n",
    "import ewstools\n",
    "from ewstools.models import simulate_ricker"
   ]
  },
  {
   "cell_type": "code",
   "execution_count": null,
   "id": "5e4b9696",
   "metadata": {},
   "outputs": [],
   "source": []
  },
  {
   "cell_type": "code",
   "execution_count": null,
   "id": "05830977",
   "metadata": {},
   "outputs": [],
   "source": [
    "# Tensorflow imports\n",
    "import tensorflow as tf\n",
    "tf.compat.v1.logging.set_verbosity(tf.compat.v1.logging.ERROR) # comment out to see TensorFlow warnings \n",
    "from tensorflow.keras.models import load_model"
   ]
  },
  {
   "cell_type": "markdown",
   "id": "73671794",
   "metadata": {},
   "source": [
    "## Compute DL classifier predictions"
   ]
  },
  {
   "cell_type": "markdown",
   "id": "573950a9",
   "metadata": {},
   "source": [
    "Deep learning classifiers were recently shown to be effective at predicting upcoming bifurcations and their type [(Bury et al. (2020)](https://www.pnas.org/doi/10.1073/pnas.2106140118). *ewstools* has the functionality to apply these types of classifier to time series data. For methods on how these classifiers are trained, please see the paper."
   ]
  },
  {
   "cell_type": "markdown",
   "id": "1543c2a6",
   "metadata": {},
   "source": [
    "The method *apply_classifier( )* applies a TensorFlow classifier to the segment of time series data between *tmin* and *tmax* and appends the classification (a vector of probabilites for each class) to *TimeSeries.dl_preds*. The time of the classification is taken as *tmax*. "
   ]
  },
  {
   "cell_type": "markdown",
   "id": "ac4612e0",
   "metadata": {},
   "source": [
    "Let's import a classifier that was trained in the study by [Bury et al.](https://www.pnas.org/doi/10.1073/pnas.2106140118), and apply it to the Ricker model simulation. For the classifiers in the study, the key is as follows:\n",
    "\n",
    "| Key | Trajectory |\n",
    "| :- | :- |\n",
    "| 0 | fold bifurcation |\n",
    "| 1 | Hopf bifurcation | \n",
    "| 2 | transcritical bifurcation |\n",
    "| 3 | null |"
   ]
  },
  {
   "cell_type": "code",
   "execution_count": 20,
   "id": "6a0a4592",
   "metadata": {},
   "outputs": [],
   "source": [
    "# Import a classifier\n",
    "classifier_path = '../saved_classifiers/bury_pnas_21/len500/best_model_1_1_len500.pkl'\n",
    "classifier = load_model(classifier_path)"
   ]
  },
  {
   "cell_type": "markdown",
   "id": "e2cfe61c",
   "metadata": {},
   "source": [
    "Let's apply the classifier to segments of increasing length. Each segment starts at the beginning of the raw time series. Therefore we will take *tmin* to be the start of the time series, and *tmax* to be incrementally larger values up to the transition time."
   ]
  },
  {
   "cell_type": "code",
   "execution_count": 21,
   "id": "f209f397",
   "metadata": {
    "scrolled": false
   },
   "outputs": [
    {
     "name": "stderr",
     "output_type": "stream",
     "text": [
      "2022-07-07 15:01:37.124846: W tensorflow/core/platform/profile_utils/cpu_utils.cc:128] Failed to get CPU frequency: 0 Hz\n"
     ]
    }
   ],
   "source": [
    "tmin = ts.state.index[0]\n",
    "tmax_vals = np.arange(ts.state.index[50], ts.transition, 10)\n",
    "# Apply the classifier for each value of tmax\n",
    "for tmax in tmax_vals:\n",
    "    ts.apply_classifier(classifier, name='c1', tmin=tmin, tmax=tmax, verbose=0)"
   ]
  },
  {
   "cell_type": "markdown",
   "id": "34791b55",
   "metadata": {},
   "source": [
    "The attribute *dl_preds* should now contain those predictions:"
   ]
  },
  {
   "cell_type": "code",
   "execution_count": 22,
   "id": "ea4ce846",
   "metadata": {
    "scrolled": false
   },
   "outputs": [
    {
     "data": {
      "text/html": [
       "<div>\n",
       "<style scoped>\n",
       "    .dataframe tbody tr th:only-of-type {\n",
       "        vertical-align: middle;\n",
       "    }\n",
       "\n",
       "    .dataframe tbody tr th {\n",
       "        vertical-align: top;\n",
       "    }\n",
       "\n",
       "    .dataframe thead th {\n",
       "        text-align: right;\n",
       "    }\n",
       "</style>\n",
       "<table border=\"1\" class=\"dataframe\">\n",
       "  <thead>\n",
       "    <tr style=\"text-align: right;\">\n",
       "      <th></th>\n",
       "      <th>0</th>\n",
       "      <th>1</th>\n",
       "      <th>2</th>\n",
       "      <th>3</th>\n",
       "      <th>time</th>\n",
       "      <th>classifier</th>\n",
       "    </tr>\n",
       "  </thead>\n",
       "  <tbody>\n",
       "    <tr>\n",
       "      <th>0</th>\n",
       "      <td>0.299638</td>\n",
       "      <td>0.023478</td>\n",
       "      <td>0.178145</td>\n",
       "      <td>0.498740</td>\n",
       "      <td>50.0</td>\n",
       "      <td>c1</td>\n",
       "    </tr>\n",
       "    <tr>\n",
       "      <th>1</th>\n",
       "      <td>0.200860</td>\n",
       "      <td>0.010259</td>\n",
       "      <td>0.166766</td>\n",
       "      <td>0.622115</td>\n",
       "      <td>60.0</td>\n",
       "      <td>c1</td>\n",
       "    </tr>\n",
       "    <tr>\n",
       "      <th>2</th>\n",
       "      <td>0.160742</td>\n",
       "      <td>0.004983</td>\n",
       "      <td>0.134223</td>\n",
       "      <td>0.700052</td>\n",
       "      <td>70.0</td>\n",
       "      <td>c1</td>\n",
       "    </tr>\n",
       "    <tr>\n",
       "      <th>3</th>\n",
       "      <td>0.122566</td>\n",
       "      <td>0.003282</td>\n",
       "      <td>0.110675</td>\n",
       "      <td>0.763478</td>\n",
       "      <td>80.0</td>\n",
       "      <td>c1</td>\n",
       "    </tr>\n",
       "    <tr>\n",
       "      <th>4</th>\n",
       "      <td>0.107802</td>\n",
       "      <td>0.003956</td>\n",
       "      <td>0.138997</td>\n",
       "      <td>0.749245</td>\n",
       "      <td>90.0</td>\n",
       "      <td>c1</td>\n",
       "    </tr>\n",
       "  </tbody>\n",
       "</table>\n",
       "</div>"
      ],
      "text/plain": [
       "          0         1         2         3  time classifier\n",
       "0  0.299638  0.023478  0.178145  0.498740  50.0         c1\n",
       "1  0.200860  0.010259  0.166766  0.622115  60.0         c1\n",
       "2  0.160742  0.004983  0.134223  0.700052  70.0         c1\n",
       "3  0.122566  0.003282  0.110675  0.763478  80.0         c1\n",
       "4  0.107802  0.003956  0.138997  0.749245  90.0         c1"
      ]
     },
     "execution_count": 22,
     "metadata": {},
     "output_type": "execute_result"
    }
   ],
   "source": [
    "ts.dl_preds.head()"
   ]
  },
  {
   "cell_type": "markdown",
   "id": "e03939f0",
   "metadata": {},
   "source": [
    "Let's visualise those DL predictions:"
   ]
  },
  {
   "cell_type": "code",
   "execution_count": 23,
   "id": "9f827162",
   "metadata": {},
   "outputs": [
    {
     "data": {
      "image/png": "[encoded data removed]",
      "text/plain": [
       "<Figure size 432x432 with 2 Axes>"
      ]
     },
     "metadata": {
      "needs_background": "light"
     },
     "output_type": "display_data"
    }
   ],
   "source": [
    "fig1, axes = plt.subplots(nrows=2, ncols=1, figsize=(6,6), sharex=True)\n",
    "ts.state[['state','smoothing']].plot(ax=axes[0])\n",
    "ts.dl_preds.set_index('time')[[0,1,2,3]].plot(ax=axes[1],legend=True);"
   ]
  },
  {
   "cell_type": "markdown",
   "id": "af3b6f03",
   "metadata": {},
   "source": [
    "We should find that the DL classification favours the fold bifurcation ('0') as the bifurcation is approached."
   ]
  },
  {
   "cell_type": "markdown",
   "id": "34363674",
   "metadata": {},
   "source": [
    "#### Ensemble modelling\n",
    "\n",
    "The previous predictions were obtained from a single classifier. To improve overall performance, we can use ensemble modelling, which involves taking the average of predictions from multiple classifiers. Let's import all 20 classifiers that were trained in the study by [Bury et al.](https://www.pnas.org/doi/10.1073/pnas.2106140118) (the classifiers that were trained on time series with 500 data points)."
   ]
  },
  {
   "cell_type": "code",
   "execution_count": 24,
   "id": "e187098d",
   "metadata": {},
   "outputs": [],
   "source": [
    "ts.clear_dl_preds() # we can clear previous DL predictions using this method\n",
    "root_path = '../saved_classifiers/bury_pnas_21/len500/'\n",
    "classifier_names = [name for name in os.listdir(root_path) if name[-4:]=='.pkl']"
   ]
  },
  {
   "cell_type": "code",
   "execution_count": 25,
   "id": "95dd735b",
   "metadata": {},
   "outputs": [
    {
     "name": "stdout",
     "output_type": "stream",
     "text": [
      "Predictions complete for classifier best_model_5_1_len500.pkl\n",
      "Predictions complete for classifier best_model_2_1_len500.pkl\n",
      "Predictions complete for classifier best_model_7_2_len500.pkl\n",
      "Predictions complete for classifier best_model_6_2_len500.pkl\n",
      "Predictions complete for classifier best_model_1_2_len500.pkl\n",
      "Predictions complete for classifier best_model_3_1_len500.pkl\n",
      "Predictions complete for classifier best_model_4_1_len500.pkl\n",
      "Predictions complete for classifier best_model_9_1_len500.pkl\n",
      "Predictions complete for classifier best_model_8_1_len500.pkl\n",
      "Predictions complete for classifier best_model_10_2_len500.pkl\n",
      "Predictions complete for classifier best_model_10_1_len500.pkl\n",
      "Predictions complete for classifier best_model_8_2_len500.pkl\n",
      "Predictions complete for classifier best_model_9_2_len500.pkl\n",
      "Predictions complete for classifier best_model_3_2_len500.pkl\n",
      "Predictions complete for classifier best_model_4_2_len500.pkl\n",
      "Predictions complete for classifier best_model_6_1_len500.pkl\n",
      "Predictions complete for classifier best_model_1_1_len500.pkl\n",
      "Predictions complete for classifier best_model_7_1_len500.pkl\n",
      "Predictions complete for classifier best_model_5_2_len500.pkl\n",
      "Predictions complete for classifier best_model_2_2_len500.pkl\n"
     ]
    }
   ],
   "source": [
    "# Takes ~ 2 minutes to run on Macbook Air (M1, 2020)\n",
    "# Loop through each classifier\n",
    "for classifier_name in classifier_names:\n",
    "    # Import classifier\n",
    "    classifier = load_model(root_path + classifier_name)\n",
    "    # Get DL predictions - note we can provide a classifier name for reference\n",
    "    for tmax in tmax_vals:\n",
    "        ts.apply_classifier(classifier, name=classifier_name, tmin=tmin, tmax=tmax, verbose=0)  \n",
    "    print('Predictions complete for classifier {}'.format(classifier_name))"
   ]
  },
  {
   "cell_type": "markdown",
   "id": "9802363b",
   "metadata": {},
   "source": [
    "Now *dl_preds* should contain predictions made from multiple classifiers:"
   ]
  },
  {
   "cell_type": "code",
   "execution_count": 26,
   "id": "1d8ffe48",
   "metadata": {},
   "outputs": [
    {
     "data": {
      "text/plain": [
       "array(['best_model_5_1_len500.pkl', 'best_model_2_1_len500.pkl',\n",
       "       'best_model_7_2_len500.pkl', 'best_model_6_2_len500.pkl',\n",
       "       'best_model_1_2_len500.pkl', 'best_model_3_1_len500.pkl',\n",
       "       'best_model_4_1_len500.pkl', 'best_model_9_1_len500.pkl',\n",
       "       'best_model_8_1_len500.pkl', 'best_model_10_2_len500.pkl',\n",
       "       'best_model_10_1_len500.pkl', 'best_model_8_2_len500.pkl',\n",
       "       'best_model_9_2_len500.pkl', 'best_model_3_2_len500.pkl',\n",
       "       'best_model_4_2_len500.pkl', 'best_model_6_1_len500.pkl',\n",
       "       'best_model_1_1_len500.pkl', 'best_model_7_1_len500.pkl',\n",
       "       'best_model_5_2_len500.pkl', 'best_model_2_2_len500.pkl'],\n",
       "      dtype=object)"
      ]
     },
     "execution_count": 26,
     "metadata": {},
     "output_type": "execute_result"
    }
   ],
   "source": [
    "ts.dl_preds['classifier'].unique()"
   ]
  },
  {
   "cell_type": "markdown",
   "id": "37ee3507",
   "metadata": {},
   "source": [
    "It remains to take the average prediction over all classfiers for each point in time:"
   ]
  },
  {
   "cell_type": "code",
   "execution_count": 27,
   "id": "e8d96977",
   "metadata": {},
   "outputs": [
    {
     "data": {
      "text/html": [
       "<div>\n",
       "<style scoped>\n",
       "    .dataframe tbody tr th:only-of-type {\n",
       "        vertical-align: middle;\n",
       "    }\n",
       "\n",
       "    .dataframe tbody tr th {\n",
       "        vertical-align: top;\n",
       "    }\n",
       "\n",
       "    .dataframe thead th {\n",
       "        text-align: right;\n",
       "    }\n",
       "</style>\n",
       "<table border=\"1\" class=\"dataframe\">\n",
       "  <thead>\n",
       "    <tr style=\"text-align: right;\">\n",
       "      <th></th>\n",
       "      <th>0</th>\n",
       "      <th>1</th>\n",
       "      <th>2</th>\n",
       "      <th>3</th>\n",
       "    </tr>\n",
       "    <tr>\n",
       "      <th>time</th>\n",
       "      <th></th>\n",
       "      <th></th>\n",
       "      <th></th>\n",
       "      <th></th>\n",
       "    </tr>\n",
       "  </thead>\n",
       "  <tbody>\n",
       "    <tr>\n",
       "      <th>50.0</th>\n",
       "      <td>0.183030</td>\n",
       "      <td>0.129234</td>\n",
       "      <td>0.190455</td>\n",
       "      <td>0.497281</td>\n",
       "    </tr>\n",
       "    <tr>\n",
       "      <th>60.0</th>\n",
       "      <td>0.216371</td>\n",
       "      <td>0.092184</td>\n",
       "      <td>0.212938</td>\n",
       "      <td>0.478507</td>\n",
       "    </tr>\n",
       "    <tr>\n",
       "      <th>70.0</th>\n",
       "      <td>0.189128</td>\n",
       "      <td>0.060058</td>\n",
       "      <td>0.197056</td>\n",
       "      <td>0.553758</td>\n",
       "    </tr>\n",
       "    <tr>\n",
       "      <th>80.0</th>\n",
       "      <td>0.193775</td>\n",
       "      <td>0.036351</td>\n",
       "      <td>0.194410</td>\n",
       "      <td>0.575465</td>\n",
       "    </tr>\n",
       "    <tr>\n",
       "      <th>90.0</th>\n",
       "      <td>0.308015</td>\n",
       "      <td>0.029384</td>\n",
       "      <td>0.277292</td>\n",
       "      <td>0.385309</td>\n",
       "    </tr>\n",
       "  </tbody>\n",
       "</table>\n",
       "</div>"
      ],
      "text/plain": [
       "             0         1         2         3\n",
       "time                                        \n",
       "50.0  0.183030  0.129234  0.190455  0.497281\n",
       "60.0  0.216371  0.092184  0.212938  0.478507\n",
       "70.0  0.189128  0.060058  0.197056  0.553758\n",
       "80.0  0.193775  0.036351  0.194410  0.575465\n",
       "90.0  0.308015  0.029384  0.277292  0.385309"
      ]
     },
     "execution_count": 27,
     "metadata": {},
     "output_type": "execute_result"
    }
   ],
   "source": [
    "df_dl_preds_av = ts.dl_preds.groupby(['time']).mean()\n",
    "df_dl_preds_av.head()"
   ]
  },
  {
   "cell_type": "code",
   "execution_count": 28,
   "id": "c84a3e16",
   "metadata": {},
   "outputs": [
    {
     "data": {
      "image/png": "[encoded data removed]",
      "text/plain": [
       "<Figure size 432x432 with 2 Axes>"
      ]
     },
     "metadata": {
      "needs_background": "light"
     },
     "output_type": "display_data"
    }
   ],
   "source": [
    "fig1, axes = plt.subplots(nrows=2, ncols=1, figsize=(6,6), sharex=True)\n",
    "ts.state[['state','smoothing']].plot(ax=axes[0])\n",
    "df_dl_preds_av.plot(ax=axes[1],legend=True);"
   ]
  },
  {
   "cell_type": "markdown",
   "id": "dab50eef",
   "metadata": {},
   "source": [
    "That's it! Feel free to copy and play around with this notebook for your own data."
   ]
  },
  {
   "cell_type": "code",
   "execution_count": 29,
   "id": "d63384bd",
   "metadata": {},
   "outputs": [
    {
     "name": "stdout",
     "output_type": "stream",
     "text": [
      "Notebook took 139.4s to run\n"
     ]
    }
   ],
   "source": [
    "# Stop timer\n",
    "end_time = time.time()\n",
    "print('Notebook took {:.1f}s to run'.format(end_time-start_time))"
   ]
  }
 ],
 "metadata": {
  "kernelspec": {
   "display_name": "Python 3 (ipykernel)",
   "language": "python",
   "name": "python3"
  },
  "language_info": {
   "codemirror_mode": {
    "name": "ipython",
    "version": 3
   },
   "file_extension": ".py",
   "mimetype": "text/x-python",
   "name": "python",
   "nbconvert_exporter": "python",
   "pygments_lexer": "ipython3",
   "version": "3.10.5"
  }
 },
 "nbformat": 4,
 "nbformat_minor": 5
}
