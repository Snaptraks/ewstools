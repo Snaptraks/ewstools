{
 "cells": [
  {
   "cell_type": "markdown",
   "metadata": {},
   "source": [
    "# Tutorial 1: CSD-based EWS in the Ricker model\n",
    "\n",
    "The objectives of this tutorial are as follows:\n",
    "- Simulate a single stochastic trajectory of the Ricker model going through a Fold bifurcation\n",
    "- Show how to use the package *ewstools* to compute early warning signals\n",
    "- Visualise the output\n",
    "\n",
    "Run time < 1 min\n"
   ]
  },
  {
   "cell_type": "markdown",
   "metadata": {},
   "source": [
    "## Import relevant libraries"
   ]
  },
  {
   "cell_type": "code",
   "execution_count": 1,
   "metadata": {},
   "outputs": [],
   "source": [
    "# We will require the following standard Python packages for this analysis\n",
    "import numpy as np\n",
    "import pandas as pd\n",
    "import matplotlib.pyplot as plt\n",
    "import ewstools"
   ]
  },
  {
   "cell_type": "markdown",
   "metadata": {},
   "source": [
    "## Run a simulation of the Ricker model\n",
    "\n",
    "Let's simulate a single trajectory of the Ricker model going through a Fold bifurcation. We will use this data to demonstrate the process of computing EWS."
   ]
  },
  {
   "cell_type": "markdown",
   "metadata": {},
   "source": [
    "**Set simulation parameters**"
   ]
  },
  {
   "cell_type": "code",
   "execution_count": 50,
   "metadata": {},
   "outputs": [],
   "source": [
    "dt = 1 # time-step (using 1 since discrete-time system)\n",
    "t0 = 0 # start time\n",
    "tmax = 2000 # end time\n",
    "tburn = 100 # burn-in period preceding start-time\n",
    "seed = 0 # random number generation seed (set for reproducibility)"
   ]
  },
  {
   "cell_type": "markdown",
   "metadata": {},
   "source": [
    "**Define model**\n",
    "\n",
    "We use the Ricker model with a Holling Type II harvesting term and additive white noise. It is given by\n",
    "$$ N_{t+1} = N_t e^{(r(1-N_t/K) + \\sigma\\epsilon_t} ) - F\\frac{N_t^2}{N_t^2 + h^2}$$\n",
    "where $N_t$ is the population size at time $t$, $r$ is the intrinsic growth rate, $K$ is the carrying capacity, $F$ is the maximum rate of harvesting, $h$ is the half saturation constant of the harvesting term, $\\sigma$ is the noise amplitude, and $\\epsilon_t$ is a normal random variable with zero mean and unit variance."
   ]
  },
  {
   "cell_type": "code",
   "execution_count": 51,
   "metadata": {},
   "outputs": [],
   "source": [
    "# Define the model\n",
    "def de_fun(x,r,k,f,h,xi):\n",
    "    return x*np.exp(r*(1-x/k)+xi) - f*x**2/(x**2+h**2)"
   ]
  },
  {
   "cell_type": "markdown",
   "metadata": {},
   "source": [
    "**Set model parmaeters**"
   ]
  },
  {
   "cell_type": "code",
   "execution_count": 52,
   "metadata": {},
   "outputs": [],
   "source": [
    "r = 0.75 # growth rate\n",
    "k = 10 # carrying capacity\n",
    "h = 0.75 # half-saturation constant of harvesting function\n",
    "bl = 0 # bifurcation parameter (harvesting) low\n",
    "bh = 2.7 # bifurcation parameter (harvesting) high\n",
    "bcrit = 2.364 # bifurcation point (computed using XPPAUT)\n",
    "sigma = 0.02 # noise intensity\n",
    "x0 = 0.8 # initial condition"
   ]
  },
  {
   "cell_type": "markdown",
   "metadata": {},
   "source": [
    "**Initialisation**"
   ]
  },
  {
   "cell_type": "code",
   "execution_count": 53,
   "metadata": {},
   "outputs": [],
   "source": [
    "# Initialise arrays for time and state values\n",
    "t = np.arange(t0,tmax,dt)\n",
    "x = np.zeros(len(t))\n",
    "\n",
    "# Bifurcation parameter values (increasing linearly in time)\n",
    "b = pd.Series(np.linspace(bl,bh,len(t)),index=t) # bifurcation parameter values over time (linear increase)\n",
    "\n",
    "# Compute time at which bifurcation is crossed\n",
    "tcrit = b[b > bcrit].index[1]\n",
    "\n",
    "# Array of noise values (normal random variables with variance sigma^2 dt)\n",
    "dW_burn = np.random.normal(loc=0, scale=sigma*np.sqrt(dt), size = int(tburn/dt)) # burn-in period\n",
    "dW = np.random.normal(loc=0, scale=sigma*np.sqrt(dt), size = len(t)) # monitored period"
   ]
  },
  {
   "cell_type": "markdown",
   "metadata": {},
   "source": [
    "**Run simulation**"
   ]
  },
  {
   "cell_type": "code",
   "execution_count": 54,
   "metadata": {},
   "outputs": [],
   "source": [
    "# Run burn-in period starting from intiial condition x0\n",
    "for i in range(int(tburn/dt)):\n",
    "    x0 = de_fun(x0,r,k,bl,h,dW_burn[i])\n",
    "\n",
    "# State value post burn-in period. Set as starting value.\n",
    "x[0]=x0\n",
    "\n",
    "# Run simulation using recursion\n",
    "for i in range(len(t)-1):\n",
    "    x[i+1] = de_fun(x[i],r,k,b.iloc[i], h,dW[i])\n",
    "    # Make sure that state variable stays >= 0\n",
    "    if x[i+1] < 0:\n",
    "        x[i+1] = 0\n",
    "        \n",
    "# Store data as a pandas series\n",
    "series = pd.Series(data=x, index=t, name='x')\n",
    "series.index.name = 'time'"
   ]
  },
  {
   "cell_type": "markdown",
   "metadata": {},
   "source": [
    "We now have a DataFrame df_traj, contianing our simulation, indexed by time. We can plot it directly from pandas with the following command:"
   ]
  },
  {
   "cell_type": "code",
   "execution_count": 55,
   "metadata": {
    "scrolled": true
   },
   "outputs": [
    {
     "data": {
      "image/png": "[encoded data removed]",
      "text/plain": [
       "<Figure size 432x288 with 1 Axes>"
      ]
     },
     "metadata": {
      "needs_background": "light"
     },
     "output_type": "display_data"
    }
   ],
   "source": [
    "series.plot();"
   ]
  },
  {
   "cell_type": "markdown",
   "metadata": {},
   "source": [
    "## Compute EWS"
   ]
  },
  {
   "cell_type": "markdown",
   "metadata": {},
   "source": [
    "*ewstools* can compute the following CSD-based EWS:\n",
    "\n",
    "| EWS  | Function | Notes |\n",
    "| ------------- | ------------- | -------------- |\n",
    "| Variance  | compute_var( )  | Second moment of the data. Increases with critical slowing down. |\n",
    "| Standard deviation | compute_sd( )  | Root of the variance. Increases with critical slowing down. |\n",
    "| Coefficient of variation | compute_cv( ) | Ratio of standard deviation to the mean. Useful when mean of system varies over time. |\n",
    "| Skewness | compute_skew( )  | Third moment (standardised) of the data. Increases in magnitude (positive or negative) prior to fold bifurcations. |\n",
    "| Kurtosis | compute_kurt( )  | Fourth standardised moment of the data |\n",
    "| Lag-tau autocorrelation | compute_ac(lag=tau)  | Correlation between data-points a given lag-time apart. Increases with critical slowing down for sufficiently small lags.|\n"
   ]
  },
  {
   "cell_type": "markdown",
   "metadata": {},
   "source": [
    "**Create a TimeSeries object**: Enter your data into a TimeSeries object. To compute early warning signals, we will call methods upon this object. You can enter the data as a Python list, a numpy array, or a pandas Series."
   ]
  },
  {
   "cell_type": "code",
   "execution_count": 69,
   "metadata": {},
   "outputs": [],
   "source": [
    "ts = ewstools.TimeSeries(data=series, transition=tcrit)"
   ]
  },
  {
   "cell_type": "markdown",
   "metadata": {},
   "source": [
    "This object has a few attributes worth knowing about. The *state* attribute holds data on the state variable and any detrending that takes place. The *ews* attribute holds data on any EWS computed. Let's look at the *state* attribute."
   ]
  },
  {
   "cell_type": "code",
   "execution_count": 70,
   "metadata": {
    "scrolled": true
   },
   "outputs": [
    {
     "data": {
      "text/html": [
       "<div>\n",
       "<style scoped>\n",
       "    .dataframe tbody tr th:only-of-type {\n",
       "        vertical-align: middle;\n",
       "    }\n",
       "\n",
       "    .dataframe tbody tr th {\n",
       "        vertical-align: top;\n",
       "    }\n",
       "\n",
       "    .dataframe thead th {\n",
       "        text-align: right;\n",
       "    }\n",
       "</style>\n",
       "<table border=\"1\" class=\"dataframe\">\n",
       "  <thead>\n",
       "    <tr style=\"text-align: right;\">\n",
       "      <th></th>\n",
       "      <th>state</th>\n",
       "    </tr>\n",
       "    <tr>\n",
       "      <th>time</th>\n",
       "      <th></th>\n",
       "    </tr>\n",
       "  </thead>\n",
       "  <tbody>\n",
       "    <tr>\n",
       "      <th>0</th>\n",
       "      <td>10.222066</td>\n",
       "    </tr>\n",
       "    <tr>\n",
       "      <th>1</th>\n",
       "      <td>9.882510</td>\n",
       "    </tr>\n",
       "    <tr>\n",
       "      <th>2</th>\n",
       "      <td>9.745688</td>\n",
       "    </tr>\n",
       "    <tr>\n",
       "      <th>3</th>\n",
       "      <td>9.510647</td>\n",
       "    </tr>\n",
       "    <tr>\n",
       "      <th>4</th>\n",
       "      <td>9.641040</td>\n",
       "    </tr>\n",
       "  </tbody>\n",
       "</table>\n",
       "</div>"
      ],
      "text/plain": [
       "          state\n",
       "time           \n",
       "0     10.222066\n",
       "1      9.882510\n",
       "2      9.745688\n",
       "3      9.510647\n",
       "4      9.641040"
      ]
     },
     "execution_count": 70,
     "metadata": {},
     "output_type": "execute_result"
    }
   ],
   "source": [
    "ts.state.head()"
   ]
  },
  {
   "cell_type": "markdown",
   "metadata": {},
   "source": [
    "At the moment it contains our time series data. Now let's detrend."
   ]
  },
  {
   "cell_type": "markdown",
   "metadata": {},
   "source": [
    "**Detrend your data (if neccessary)**: This requires choice of a detrending type and associated parameters. *ewstools* provides the option to detrend with a Gaussian or a Lowess filter. You'll need to choose a bandwidth (or a span for the Lowess filter), which will depend upon the time scales in your data. Advice on choosing an appropriate bandwidth can be found in [Dakos et al. (2012)](https://journals.plos.org/plosone/article?id=10.1371/journal.pone.0041010)."
   ]
  },
  {
   "cell_type": "code",
   "execution_count": 71,
   "metadata": {},
   "outputs": [
    {
     "data": {
      "text/html": [
       "<div>\n",
       "<style scoped>\n",
       "    .dataframe tbody tr th:only-of-type {\n",
       "        vertical-align: middle;\n",
       "    }\n",
       "\n",
       "    .dataframe tbody tr th {\n",
       "        vertical-align: top;\n",
       "    }\n",
       "\n",
       "    .dataframe thead th {\n",
       "        text-align: right;\n",
       "    }\n",
       "</style>\n",
       "<table border=\"1\" class=\"dataframe\">\n",
       "  <thead>\n",
       "    <tr style=\"text-align: right;\">\n",
       "      <th></th>\n",
       "      <th>state</th>\n",
       "      <th>smoothing</th>\n",
       "      <th>residuals</th>\n",
       "    </tr>\n",
       "    <tr>\n",
       "      <th>time</th>\n",
       "      <th></th>\n",
       "      <th></th>\n",
       "      <th></th>\n",
       "    </tr>\n",
       "  </thead>\n",
       "  <tbody>\n",
       "    <tr>\n",
       "      <th>0</th>\n",
       "      <td>10.222066</td>\n",
       "      <td>9.984187</td>\n",
       "      <td>0.237879</td>\n",
       "    </tr>\n",
       "    <tr>\n",
       "      <th>1</th>\n",
       "      <td>9.882510</td>\n",
       "      <td>9.982589</td>\n",
       "      <td>-0.100078</td>\n",
       "    </tr>\n",
       "    <tr>\n",
       "      <th>2</th>\n",
       "      <td>9.745688</td>\n",
       "      <td>9.980990</td>\n",
       "      <td>-0.235302</td>\n",
       "    </tr>\n",
       "    <tr>\n",
       "      <th>3</th>\n",
       "      <td>9.510647</td>\n",
       "      <td>9.979390</td>\n",
       "      <td>-0.468743</td>\n",
       "    </tr>\n",
       "    <tr>\n",
       "      <th>4</th>\n",
       "      <td>9.641040</td>\n",
       "      <td>9.977789</td>\n",
       "      <td>-0.336750</td>\n",
       "    </tr>\n",
       "  </tbody>\n",
       "</table>\n",
       "</div>"
      ],
      "text/plain": [
       "          state  smoothing  residuals\n",
       "time                                 \n",
       "0     10.222066   9.984187   0.237879\n",
       "1      9.882510   9.982589  -0.100078\n",
       "2      9.745688   9.980990  -0.235302\n",
       "3      9.510647   9.979390  -0.468743\n",
       "4      9.641040   9.977789  -0.336750"
      ]
     },
     "execution_count": 71,
     "metadata": {},
     "output_type": "execute_result"
    }
   ],
   "source": [
    "ts.detrend(method='Lowess', span=0.2)\n",
    "ts.state.head()"
   ]
  },
  {
   "cell_type": "markdown",
   "metadata": {},
   "source": [
    "Now we see the smoothing and residual data in the *state* attribute. We can make a plot of the smoothing, which should only go up to the transition point defined in the TimeSeries object."
   ]
  },
  {
   "cell_type": "code",
   "execution_count": 72,
   "metadata": {},
   "outputs": [
    {
     "data": {
      "image/png": "[encoded data removed]",
      "text/plain": [
       "<Figure size 432x288 with 1 Axes>"
      ]
     },
     "metadata": {
      "needs_background": "light"
     },
     "output_type": "display_data"
    }
   ],
   "source": [
    "ts.state[['state','smoothing']].plot();"
   ]
  },
  {
   "cell_type": "markdown",
   "metadata": {},
   "source": [
    "***Compute EWS*** It's time to compute EWS on the residual data. This is done by applying method functions to the TimeSeries attribute. Below we will compute the variance, lag-1 autocorrelation and skew, though there are other methods that can be found in the documentation [here](https://ewstools.readthedocs.io/en/latest/). Define a rolling window length, which can be given as a proporiton of the pre-bifurcation data, or an absolute number of data points."
   ]
  },
  {
   "cell_type": "code",
   "execution_count": 73,
   "metadata": {},
   "outputs": [],
   "source": [
    "ts.compute_variance(rolling_window=0.5)\n",
    "ts.compute_auto(rolling_window=0.5, lag=1)\n",
    "ts.compute_skew(rolling_window=0.5)"
   ]
  },
  {
   "cell_type": "markdown",
   "metadata": {},
   "source": [
    "This will fill up the *ews* DataFrame in the TimeSeries object."
   ]
  },
  {
   "cell_type": "code",
   "execution_count": 74,
   "metadata": {
    "scrolled": false
   },
   "outputs": [
    {
     "data": {
      "text/html": [
       "<div>\n",
       "<style scoped>\n",
       "    .dataframe tbody tr th:only-of-type {\n",
       "        vertical-align: middle;\n",
       "    }\n",
       "\n",
       "    .dataframe tbody tr th {\n",
       "        vertical-align: top;\n",
       "    }\n",
       "\n",
       "    .dataframe thead th {\n",
       "        text-align: right;\n",
       "    }\n",
       "</style>\n",
       "<table border=\"1\" class=\"dataframe\">\n",
       "  <thead>\n",
       "    <tr style=\"text-align: right;\">\n",
       "      <th></th>\n",
       "      <th>variance</th>\n",
       "      <th>lag1ac</th>\n",
       "      <th>skew</th>\n",
       "    </tr>\n",
       "    <tr>\n",
       "      <th>time</th>\n",
       "      <th></th>\n",
       "      <th></th>\n",
       "      <th></th>\n",
       "    </tr>\n",
       "  </thead>\n",
       "  <tbody>\n",
       "    <tr>\n",
       "      <th>875</th>\n",
       "      <td>0.045833</td>\n",
       "      <td>0.356247</td>\n",
       "      <td>0.051187</td>\n",
       "    </tr>\n",
       "    <tr>\n",
       "      <th>876</th>\n",
       "      <td>0.045807</td>\n",
       "      <td>0.357631</td>\n",
       "      <td>0.051281</td>\n",
       "    </tr>\n",
       "    <tr>\n",
       "      <th>877</th>\n",
       "      <td>0.045796</td>\n",
       "      <td>0.357016</td>\n",
       "      <td>0.050285</td>\n",
       "    </tr>\n",
       "    <tr>\n",
       "      <th>878</th>\n",
       "      <td>0.045883</td>\n",
       "      <td>0.354535</td>\n",
       "      <td>0.047749</td>\n",
       "    </tr>\n",
       "    <tr>\n",
       "      <th>879</th>\n",
       "      <td>0.045699</td>\n",
       "      <td>0.353411</td>\n",
       "      <td>0.050706</td>\n",
       "    </tr>\n",
       "  </tbody>\n",
       "</table>\n",
       "</div>"
      ],
      "text/plain": [
       "      variance    lag1ac      skew\n",
       "time                              \n",
       "875   0.045833  0.356247  0.051187\n",
       "876   0.045807  0.357631  0.051281\n",
       "877   0.045796  0.357016  0.050285\n",
       "878   0.045883  0.354535  0.047749\n",
       "879   0.045699  0.353411  0.050706"
      ]
     },
     "execution_count": 74,
     "metadata": {},
     "output_type": "execute_result"
    }
   ],
   "source": [
    "ts.ews.dropna().head()"
   ]
  },
  {
   "cell_type": "markdown",
   "metadata": {},
   "source": [
    "**Visualise the EWS:** We can create a simple plot of the state and EWS data in matplotlib."
   ]
  },
  {
   "cell_type": "code",
   "execution_count": 75,
   "metadata": {},
   "outputs": [
    {
     "data": {
      "image/png": "[encoded data removed]",
      "text/plain": [
       "<Figure size 432x432 with 3 Axes>"
      ]
     },
     "metadata": {
      "needs_background": "light"
     },
     "output_type": "display_data"
    }
   ],
   "source": [
    "fig1, axes = plt.subplots(nrows=3, ncols=1, figsize=(6,6), sharex=True)\n",
    "ts.state[['state','smoothing']].plot(ax=axes[0])\n",
    "ts.ews['variance'].plot(ax=axes[1],legend=True)\n",
    "ts.ews['lag1ac'].plot(ax=axes[2],legend=True);"
   ]
  },
  {
   "cell_type": "markdown",
   "metadata": {},
   "source": [
    "**Compute Kendall tau values**"
   ]
  },
  {
   "cell_type": "code",
   "execution_count": 76,
   "metadata": {},
   "outputs": [],
   "source": [
    "ktau = ts.compute_ktau()"
   ]
  },
  {
   "cell_type": "code",
   "execution_count": 77,
   "metadata": {},
   "outputs": [
    {
     "data": {
      "text/plain": [
       "{'variance': -1.0, 'lag1ac': 0.33333333333333337, 'skew': -0.33333333333333337}"
      ]
     },
     "execution_count": 77,
     "metadata": {},
     "output_type": "execute_result"
    }
   ],
   "source": [
    "ktau"
   ]
  },
  {
   "cell_type": "markdown",
   "metadata": {},
   "source": [
    "## Visualise EWS\n",
    "\n",
    "We can visualise the EWS by constructing some plots using the Seaborn package."
   ]
  },
  {
   "cell_type": "markdown",
   "metadata": {},
   "source": [
    "**Early warning signals**"
   ]
  },
  {
   "cell_type": "code",
   "execution_count": 13,
   "metadata": {
    "scrolled": true
   },
   "outputs": [
    {
     "data": {
      "image/png": "[encoded data removed]",
      "text/plain": [
       "<Figure size 432x720 with 5 Axes>"
      ]
     },
     "metadata": {
      "needs_background": "light"
     },
     "output_type": "display_data"
    }
   ],
   "source": [
    "## Plot of trajectory, smoothing and EWS of var (x or y)\n",
    "fig1, axes = plt.subplots(nrows=5, ncols=1, figsize=(6,10))\n",
    "df_ews[['State variable','Smoothing']].plot(ax=axes[0],\n",
    "          title='Early warning signals')\n",
    "df_ews['Variance'].plot(ax=axes[1],legend=True)\n",
    "df_ews[['Lag-1 AC','Lag-2 AC']].plot(ax=axes[2],legend=True)\n",
    "df_ews['Smax'].plot(ax=axes[3],legend=True, marker='o')\n",
    "df_ews[['AIC null','AIC fold','AIC hopf']].plot(ax=axes[4],legend=True, marker='o');"
   ]
  },
  {
   "cell_type": "code",
   "execution_count": null,
   "metadata": {},
   "outputs": [],
   "source": []
  },
  {
   "cell_type": "code",
   "execution_count": null,
   "metadata": {},
   "outputs": [],
   "source": []
  }
 ],
 "metadata": {
  "kernelspec": {
   "display_name": "Python 3 (ipykernel)",
   "language": "python",
   "name": "python3"
  },
  "language_info": {
   "codemirror_mode": {
    "name": "ipython",
    "version": 3
   },
   "file_extension": ".py",
   "mimetype": "text/x-python",
   "name": "python",
   "nbconvert_exporter": "python",
   "pygments_lexer": "ipython3",
   "version": "3.9.1"
  }
 },
 "nbformat": 4,
 "nbformat_minor": 2
}
