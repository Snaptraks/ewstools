{
 "cells": [
  {
   "cell_type": "markdown",
   "metadata": {},
   "source": [
    "# Demo 1: EWS in the Ricker model\n",
    "\n",
    "The objectives of this demo are as follows:\n",
    "- Simulate a single stochastic trajectory of the Ricker model going through a Fold bifurcation\n",
    "- Show how to use the package *ewstools* to compute early warning signals\n",
    "- Visualise the output of *ewstools* graphically\n",
    "- Run time < 1 min\n"
   ]
  },
  {
   "cell_type": "markdown",
   "metadata": {},
   "source": [
    "## Import the standard Python libraries and ewstools"
   ]
  },
  {
   "cell_type": "code",
   "execution_count": 1,
   "metadata": {},
   "outputs": [],
   "source": [
    "# We will require the following standard Python packages for this analysis\n",
    "import numpy as np\n",
    "import pandas as pd\n",
    "import matplotlib.pyplot as plt\n",
    "import seaborn as sns\n",
    "\n",
    "# This is the package we use to compute the early warning signals\n",
    "import ewstools.core as ewstools"
   ]
  },
  {
   "cell_type": "markdown",
   "metadata": {},
   "source": [
    "## Simulate the Ricker model\n",
    "\n",
    "Here we simulate a single trajectory of the Ricker model going through a Fold bifurcation. We will use this data to demonstrate the process of computing EWS. Alternatively, you could import your own data here. The importnat thing is that we end up with a Pandas DataFrame indexed by time."
   ]
  },
  {
   "cell_type": "markdown",
   "metadata": {},
   "source": [
    "**Set simulation parameters**"
   ]
  },
  {
   "cell_type": "code",
   "execution_count": 2,
   "metadata": {},
   "outputs": [],
   "source": [
    "dt = 1 # time-step (using 1 since discrete-time system)\n",
    "t0 = 0 # starting time\n",
    "tmax = 1000 # end time\n",
    "tburn = 100 # burn-in period preceding start-time\n",
    "seed = 0 # random number generation seed (set for reproducibility)"
   ]
  },
  {
   "cell_type": "markdown",
   "metadata": {},
   "source": [
    "**Define model**\n",
    "\n",
    "We use the Ricker model with a Holling Type II harvesting term and additive white noise. It is given by\n",
    "$$ N_{t+1} = N_t e^{(r(1-N_t/K) + \\sigma\\epsilon_t} ) - F\\frac{N_t^2}{N_t^2 + h^2}$$\n",
    "where $N_t$ is the population size at time $t$, $r$ is the intrinsic growth rate, $K$ is the carrying capacity, $F$ is the maximum rate of harvesting, $h$ is the half saturation constant of the harvesting term, $\\sigma$ is the noise amplitude, and $\\epsilon_t$ is a normal random variable with zero mean and unit variance."
   ]
  },
  {
   "cell_type": "code",
   "execution_count": 3,
   "metadata": {},
   "outputs": [],
   "source": [
    "# Define the model\n",
    "def de_fun(x,r,k,f,h,xi):\n",
    "    return x*np.exp(r*(1-x/k)+xi) - f*x**2/(x**2+h**2)"
   ]
  },
  {
   "cell_type": "markdown",
   "metadata": {},
   "source": [
    "**Set model parmaeters**"
   ]
  },
  {
   "cell_type": "code",
   "execution_count": 4,
   "metadata": {},
   "outputs": [],
   "source": [
    "r = 0.75 # growth rate\n",
    "k = 10 # carrying capacity\n",
    "h = 0.75 # half-saturation constant of harvesting function\n",
    "bl = 0 # bifurcation parameter (harvesting) low\n",
    "bh = 2.7 # bifurcation parameter (harvesting) high\n",
    "bcrit = 2.364 # bifurcation point (computed using XPPAUT)\n",
    "sigma = 0.02 # noise intensity\n",
    "x0 = 0.8 # initial condition"
   ]
  },
  {
   "cell_type": "markdown",
   "metadata": {},
   "source": [
    "**Initialisation**"
   ]
  },
  {
   "cell_type": "code",
   "execution_count": 5,
   "metadata": {},
   "outputs": [],
   "source": [
    "# Initialise arrays for time and state values\n",
    "t = np.arange(t0,tmax,dt)\n",
    "x = np.zeros(len(t))\n",
    "\n",
    "# Bifurcation parameter values (increasing linearly in time)\n",
    "b = pd.Series(np.linspace(bl,bh,len(t)),index=t) # bifurcation parameter values over time (linear increase)\n",
    "\n",
    "# Compute time at which bifurcation is crossed\n",
    "tcrit = b[b > bcrit].index[1]\n",
    "\n",
    "# Array of noise values (normal random variables with variance sigma^2 dt)\n",
    "dW_burn = np.random.normal(loc=0, scale=sigma*np.sqrt(dt), size = int(tburn/dt)) # burn-in period\n",
    "dW = np.random.normal(loc=0, scale=sigma*np.sqrt(dt), size = len(t)) # monitored period"
   ]
  },
  {
   "cell_type": "markdown",
   "metadata": {},
   "source": [
    "**Run simulation**"
   ]
  },
  {
   "cell_type": "code",
   "execution_count": 6,
   "metadata": {},
   "outputs": [],
   "source": [
    "# Run burn-in period starting from intiial condition x0\n",
    "for i in range(int(tburn/dt)):\n",
    "    x0 = de_fun(x0,r,k,bl,h,dW_burn[i])\n",
    "\n",
    "# State value post burn-in period. Set as starting value.\n",
    "x[0]=x0\n",
    "\n",
    "# Run simulation using recursion\n",
    "for i in range(len(t)-1):\n",
    "    x[i+1] = de_fun(x[i],r,k,b.iloc[i], h,dW[i])\n",
    "    # Make sure that state variable stays >= 0\n",
    "    if x[i+1] < 0:\n",
    "        x[i+1] = 0\n",
    "        \n",
    "# Store array data in a DataFrame indexed by time\n",
    "sim_data = {'Time': t, 'x': x}\n",
    "df_traj = pd.DataFrame(sim_data)\n",
    "df_traj.set_index('Time', inplace=True)"
   ]
  },
  {
   "cell_type": "markdown",
   "metadata": {},
   "source": [
    "We now have a DataFrame df_traj, with our trajectory, indexed by time. We can check it out with a simple plot, using the command"
   ]
  },
  {
   "cell_type": "code",
   "execution_count": 7,
   "metadata": {
    "scrolled": true
   },
   "outputs": [
    {
     "data": {
      "image/png": "[encoded data removed]",
      "text/plain": [
       "<Figure size 432x288 with 1 Axes>"
      ]
     },
     "metadata": {
      "needs_background": "light"
     },
     "output_type": "display_data"
    }
   ],
   "source": [
    "df_traj.plot();"
   ]
  },
  {
   "cell_type": "markdown",
   "metadata": {},
   "source": [
    "## Compute EWS"
   ]
  },
  {
   "cell_type": "markdown",
   "metadata": {},
   "source": [
    "We can now use *ewstools* to compute early warning signals that precede this bifurcation. The package can compute the following statistical metrics. Simply put the label into the argument ews.\n",
    "\n",
    "| EWS  | Label | Notes |\n",
    "| ------------- | ------------- | -------------- |\n",
    "| Variance  | 'var'  | Second moment of the data. Increases with critical slowing down. |\n",
    "| Standard deviation | 'sd'  | Root of the variance. Increases with critical slowing down. |\n",
    "| Coefficient of variation | 'cv'  | Ratio of standard deviation to the mean. Useful when mean of system varies over time. |\n",
    "| Skewness | 'skew'  | Third standardised moment of the data. Increases preceding Fold bifurcations. |\n",
    "| Kurtosis | 'kurt'  | Fourth standardised moment of the data |\n",
    "| Autocorrelation | 'ac'  | Correlation between data-points a given lag-time apart. Increases with critical slowing down for sufficiently small lags.|\n",
    "| Smax | 'smax'  | Peak in the power spectrum. Increases with critical slowing down. |\n",
    "| Coherence factor | 'cf'  | Ratio of height to width of peak in the power spectrum. Increases preceding a Hopf bifurcation. |\n",
    "| AIC weights | 'aic'  | Weights characterising the class of bifurcation |\n",
    "\n"
   ]
  },
  {
   "cell_type": "markdown",
   "metadata": {},
   "source": [
    "**Set EWS parameters**"
   ]
  },
  {
   "cell_type": "markdown",
   "metadata": {},
   "source": [
    "First we must configure some imporant parameters that are used in the process of finding early warning signals. For more details on the description of these parameters, check out the *ewstools* documentation. \n",
    "\n",
    "Sensible choices of these parameters will depend on the resolution and scale of your data. Details on how to select these parameter values can be found in the mothodological paper by [Dakos et al.](https://journals.plos.org/plosone/article?id=10.1371/journal.pone.0041010)"
   ]
  },
  {
   "cell_type": "code",
   "execution_count": 8,
   "metadata": {},
   "outputs": [],
   "source": [
    "rw = 0.4 # rolling window\n",
    "span = 0.5 # Lowess span\n",
    "lags = [1,2,3] # autocorrelation lag times to compute\n",
    "ews = ['var','sd','cv','skew','kurt','ac','smax','cf','aic'] # EWS to compute (let's do all of them)\n",
    "ham_length = 80 # number of data points in Hamming window\n",
    "ham_offset = 0.5 # proportion of Hamming window to offset by upon each iteration\n",
    "pspec_roll_offset = 20 # offset for rolling window when doing spectrum metrics"
   ]
  },
  {
   "cell_type": "markdown",
   "metadata": {},
   "source": [
    "**Run ews_compute**\n",
    "\n",
    "ews_compute is the main function in the package *ewstools*. It takes in your time-series data, along with your parameter configurations, and outputs the specified EWS."
   ]
  },
  {
   "cell_type": "code",
   "execution_count": 9,
   "metadata": {},
   "outputs": [],
   "source": [
    "ews_dic = ewstools.ews_compute(df_traj['x'], \n",
    "                          roll_window = rw, \n",
    "                          span = span,\n",
    "                          lag_times = lags, \n",
    "                          ews = ews,\n",
    "                          upto=tcrit)"
   ]
  },
  {
   "cell_type": "markdown",
   "metadata": {},
   "source": [
    "**Extract info**\n",
    "\n",
    "ews_compute outputs a dictionary containing three DataFrames\n",
    "- *EWS metrics* : column for each EWS indexed by time\n",
    "- *Power spectrum* : measured power spectrum and fitted power spectra indexed by time and frequency\n",
    "- *Kendall tau* : Kendall tau values for each EWS"
   ]
  },
  {
   "cell_type": "code",
   "execution_count": 10,
   "metadata": {},
   "outputs": [],
   "source": [
    "# The DataFrame of EWS\n",
    "df_ews = ews_dic['EWS metrics']\n",
    "# The DataFrame of power spectra\n",
    "df_pspec = ews_dic['Power spectrum']\n",
    "# The DataFrame of ktau values\n",
    "df_ktau = ews_dic['Kendall tau']"
   ]
  },
  {
   "cell_type": "markdown",
   "metadata": {},
   "source": [
    "Here is a sample from the EWS DataFrame"
   ]
  },
  {
   "cell_type": "code",
   "execution_count": 11,
   "metadata": {
    "scrolled": true
   },
   "outputs": [
    {
     "data": {
      "text/html": [
       "<div>\n",
       "<style scoped>\n",
       "    .dataframe tbody tr th:only-of-type {\n",
       "        vertical-align: middle;\n",
       "    }\n",
       "\n",
       "    .dataframe tbody tr th {\n",
       "        vertical-align: top;\n",
       "    }\n",
       "\n",
       "    .dataframe thead th {\n",
       "        text-align: right;\n",
       "    }\n",
       "</style>\n",
       "<table border=\"1\" class=\"dataframe\">\n",
       "  <thead>\n",
       "    <tr style=\"text-align: right;\">\n",
       "      <th></th>\n",
       "      <th>State variable</th>\n",
       "      <th>Smoothing</th>\n",
       "      <th>Residuals</th>\n",
       "      <th>Standard deviation</th>\n",
       "      <th>Variance</th>\n",
       "      <th>Lag-1 AC</th>\n",
       "      <th>Lag-2 AC</th>\n",
       "      <th>Lag-3 AC</th>\n",
       "      <th>Coefficient of variation</th>\n",
       "      <th>Skewness</th>\n",
       "      <th>Kurtosis</th>\n",
       "      <th>Smax</th>\n",
       "      <th>Coherence factor</th>\n",
       "      <th>AIC fold</th>\n",
       "      <th>AIC hopf</th>\n",
       "      <th>AIC null</th>\n",
       "      <th>Params fold</th>\n",
       "      <th>Params flip</th>\n",
       "      <th>Params hopf</th>\n",
       "      <th>Params null</th>\n",
       "    </tr>\n",
       "    <tr>\n",
       "      <th>Time</th>\n",
       "      <th></th>\n",
       "      <th></th>\n",
       "      <th></th>\n",
       "      <th></th>\n",
       "      <th></th>\n",
       "      <th></th>\n",
       "      <th></th>\n",
       "      <th></th>\n",
       "      <th></th>\n",
       "      <th></th>\n",
       "      <th></th>\n",
       "      <th></th>\n",
       "      <th></th>\n",
       "      <th></th>\n",
       "      <th></th>\n",
       "      <th></th>\n",
       "      <th></th>\n",
       "      <th></th>\n",
       "      <th></th>\n",
       "      <th></th>\n",
       "    </tr>\n",
       "  </thead>\n",
       "  <tbody>\n",
       "    <tr>\n",
       "      <th>498</th>\n",
       "      <td>7.972859</td>\n",
       "      <td>7.893592</td>\n",
       "      <td>0.079267</td>\n",
       "      <td>0.206901</td>\n",
       "      <td>0.042808</td>\n",
       "      <td>0.328633</td>\n",
       "      <td>0.176741</td>\n",
       "      <td>0.205525</td>\n",
       "      <td>0.023477</td>\n",
       "      <td>0.077827</td>\n",
       "      <td>0.100721</td>\n",
       "      <td>NaN</td>\n",
       "      <td>NaN</td>\n",
       "      <td>NaN</td>\n",
       "      <td>NaN</td>\n",
       "      <td>NaN</td>\n",
       "      <td>NaN</td>\n",
       "      <td>NaN</td>\n",
       "      <td>NaN</td>\n",
       "      <td>NaN</td>\n",
       "    </tr>\n",
       "    <tr>\n",
       "      <th>499</th>\n",
       "      <td>7.806445</td>\n",
       "      <td>7.888493</td>\n",
       "      <td>-0.082049</td>\n",
       "      <td>0.206913</td>\n",
       "      <td>0.042813</td>\n",
       "      <td>0.328404</td>\n",
       "      <td>0.177217</td>\n",
       "      <td>0.205718</td>\n",
       "      <td>0.023490</td>\n",
       "      <td>0.078160</td>\n",
       "      <td>0.100078</td>\n",
       "      <td>0.003757</td>\n",
       "      <td>0.001879</td>\n",
       "      <td>0.999998</td>\n",
       "      <td>6.356682e-07</td>\n",
       "      <td>0.000001</td>\n",
       "      <td>{'sigma': 0.19872370169909342, 'lam': -1.54161...</td>\n",
       "      <td>{'sigma': 0.09620615850015005, 'r': -4.2632564...</td>\n",
       "      <td>{'sigma': 0.6188130884503726, 'mu': -5.7612221...</td>\n",
       "      <td>{'sigma': 0.09620601491208727}</td>\n",
       "    </tr>\n",
       "    <tr>\n",
       "      <th>500</th>\n",
       "      <td>8.056340</td>\n",
       "      <td>7.883389</td>\n",
       "      <td>0.172951</td>\n",
       "      <td>0.207063</td>\n",
       "      <td>0.042875</td>\n",
       "      <td>0.327200</td>\n",
       "      <td>0.178964</td>\n",
       "      <td>0.205301</td>\n",
       "      <td>0.023518</td>\n",
       "      <td>0.074764</td>\n",
       "      <td>0.091544</td>\n",
       "      <td>NaN</td>\n",
       "      <td>NaN</td>\n",
       "      <td>NaN</td>\n",
       "      <td>NaN</td>\n",
       "      <td>NaN</td>\n",
       "      <td>NaN</td>\n",
       "      <td>NaN</td>\n",
       "      <td>NaN</td>\n",
       "      <td>NaN</td>\n",
       "    </tr>\n",
       "    <tr>\n",
       "      <th>501</th>\n",
       "      <td>7.953306</td>\n",
       "      <td>7.878279</td>\n",
       "      <td>0.075027</td>\n",
       "      <td>0.207088</td>\n",
       "      <td>0.042886</td>\n",
       "      <td>0.328489</td>\n",
       "      <td>0.178790</td>\n",
       "      <td>0.205504</td>\n",
       "      <td>0.023532</td>\n",
       "      <td>0.072556</td>\n",
       "      <td>0.089831</td>\n",
       "      <td>NaN</td>\n",
       "      <td>NaN</td>\n",
       "      <td>NaN</td>\n",
       "      <td>NaN</td>\n",
       "      <td>NaN</td>\n",
       "      <td>NaN</td>\n",
       "      <td>NaN</td>\n",
       "      <td>NaN</td>\n",
       "      <td>NaN</td>\n",
       "    </tr>\n",
       "    <tr>\n",
       "      <th>502</th>\n",
       "      <td>7.668314</td>\n",
       "      <td>7.873163</td>\n",
       "      <td>-0.204849</td>\n",
       "      <td>0.206790</td>\n",
       "      <td>0.042762</td>\n",
       "      <td>0.324914</td>\n",
       "      <td>0.177178</td>\n",
       "      <td>0.202246</td>\n",
       "      <td>0.023509</td>\n",
       "      <td>0.075025</td>\n",
       "      <td>0.097744</td>\n",
       "      <td>NaN</td>\n",
       "      <td>NaN</td>\n",
       "      <td>NaN</td>\n",
       "      <td>NaN</td>\n",
       "      <td>NaN</td>\n",
       "      <td>NaN</td>\n",
       "      <td>NaN</td>\n",
       "      <td>NaN</td>\n",
       "      <td>NaN</td>\n",
       "    </tr>\n",
       "  </tbody>\n",
       "</table>\n",
       "</div>"
      ],
      "text/plain": [
       "      State variable  Smoothing  Residuals  Standard deviation  Variance  \\\n",
       "Time                                                                       \n",
       "498         7.972859   7.893592   0.079267            0.206901  0.042808   \n",
       "499         7.806445   7.888493  -0.082049            0.206913  0.042813   \n",
       "500         8.056340   7.883389   0.172951            0.207063  0.042875   \n",
       "501         7.953306   7.878279   0.075027            0.207088  0.042886   \n",
       "502         7.668314   7.873163  -0.204849            0.206790  0.042762   \n",
       "\n",
       "      Lag-1 AC  Lag-2 AC  Lag-3 AC  Coefficient of variation  Skewness  \\\n",
       "Time                                                                     \n",
       "498   0.328633  0.176741  0.205525                  0.023477  0.077827   \n",
       "499   0.328404  0.177217  0.205718                  0.023490  0.078160   \n",
       "500   0.327200  0.178964  0.205301                  0.023518  0.074764   \n",
       "501   0.328489  0.178790  0.205504                  0.023532  0.072556   \n",
       "502   0.324914  0.177178  0.202246                  0.023509  0.075025   \n",
       "\n",
       "      Kurtosis      Smax  Coherence factor  AIC fold      AIC hopf  AIC null  \\\n",
       "Time                                                                           \n",
       "498   0.100721       NaN               NaN       NaN           NaN       NaN   \n",
       "499   0.100078  0.003757          0.001879  0.999998  6.356682e-07  0.000001   \n",
       "500   0.091544       NaN               NaN       NaN           NaN       NaN   \n",
       "501   0.089831       NaN               NaN       NaN           NaN       NaN   \n",
       "502   0.097744       NaN               NaN       NaN           NaN       NaN   \n",
       "\n",
       "                                            Params fold  \\\n",
       "Time                                                      \n",
       "498                                                 NaN   \n",
       "499   {'sigma': 0.19872370169909342, 'lam': -1.54161...   \n",
       "500                                                 NaN   \n",
       "501                                                 NaN   \n",
       "502                                                 NaN   \n",
       "\n",
       "                                            Params flip  \\\n",
       "Time                                                      \n",
       "498                                                 NaN   \n",
       "499   {'sigma': 0.09620615850015005, 'r': -4.2632564...   \n",
       "500                                                 NaN   \n",
       "501                                                 NaN   \n",
       "502                                                 NaN   \n",
       "\n",
       "                                            Params hopf  \\\n",
       "Time                                                      \n",
       "498                                                 NaN   \n",
       "499   {'sigma': 0.6188130884503726, 'mu': -5.7612221...   \n",
       "500                                                 NaN   \n",
       "501                                                 NaN   \n",
       "502                                                 NaN   \n",
       "\n",
       "                         Params null  \n",
       "Time                                  \n",
       "498                              NaN  \n",
       "499   {'sigma': 0.09620601491208727}  \n",
       "500                              NaN  \n",
       "501                              NaN  \n",
       "502                              NaN  "
      ]
     },
     "execution_count": 11,
     "metadata": {},
     "output_type": "execute_result"
    }
   ],
   "source": [
    "df_ews.iloc[498:503]"
   ]
  },
  {
   "cell_type": "markdown",
   "metadata": {},
   "source": [
    "Note that the spectral metrics are computed at a lower time-resolution, and so have many blank cells (Nan). The DataFrame of Kendall tau values for each EWS looks like"
   ]
  },
  {
   "cell_type": "code",
   "execution_count": 12,
   "metadata": {},
   "outputs": [
    {
     "data": {
      "text/html": [
       "<div>\n",
       "<style scoped>\n",
       "    .dataframe tbody tr th:only-of-type {\n",
       "        vertical-align: middle;\n",
       "    }\n",
       "\n",
       "    .dataframe tbody tr th {\n",
       "        vertical-align: top;\n",
       "    }\n",
       "\n",
       "    .dataframe thead th {\n",
       "        text-align: right;\n",
       "    }\n",
       "</style>\n",
       "<table border=\"1\" class=\"dataframe\">\n",
       "  <thead>\n",
       "    <tr style=\"text-align: right;\">\n",
       "      <th></th>\n",
       "      <th>Variance</th>\n",
       "      <th>Lag-1 AC</th>\n",
       "      <th>Kurtosis</th>\n",
       "      <th>Lag-2 AC</th>\n",
       "      <th>Lag-3 AC</th>\n",
       "      <th>Standard deviation</th>\n",
       "      <th>Smax</th>\n",
       "      <th>Skewness</th>\n",
       "      <th>Coefficient of variation</th>\n",
       "    </tr>\n",
       "  </thead>\n",
       "  <tbody>\n",
       "    <tr>\n",
       "      <th>0</th>\n",
       "      <td>0.057428</td>\n",
       "      <td>0.910687</td>\n",
       "      <td>0.234897</td>\n",
       "      <td>0.859284</td>\n",
       "      <td>0.481207</td>\n",
       "      <td>0.057428</td>\n",
       "      <td>0.797101</td>\n",
       "      <td>0.001184</td>\n",
       "      <td>0.944668</td>\n",
       "    </tr>\n",
       "  </tbody>\n",
       "</table>\n",
       "</div>"
      ],
      "text/plain": [
       "   Variance  Lag-1 AC  Kurtosis  Lag-2 AC  Lag-3 AC  Standard deviation  \\\n",
       "0  0.057428  0.910687  0.234897  0.859284  0.481207            0.057428   \n",
       "\n",
       "       Smax  Skewness  Coefficient of variation  \n",
       "0  0.797101  0.001184                  0.944668  "
      ]
     },
     "execution_count": 12,
     "metadata": {},
     "output_type": "execute_result"
    }
   ],
   "source": [
    "df_ktau"
   ]
  },
  {
   "cell_type": "markdown",
   "metadata": {},
   "source": [
    "## Visualise EWS\n",
    "\n",
    "We can visualise the EWS by constructing some plots using the Seaborn package."
   ]
  },
  {
   "cell_type": "markdown",
   "metadata": {},
   "source": [
    "**Early warning signals**"
   ]
  },
  {
   "cell_type": "code",
   "execution_count": 13,
   "metadata": {
    "scrolled": true
   },
   "outputs": [
    {
     "data": {
      "image/png": "[encoded data removed]",
      "text/plain": [
       "<Figure size 432x720 with 5 Axes>"
      ]
     },
     "metadata": {
      "needs_background": "light"
     },
     "output_type": "display_data"
    }
   ],
   "source": [
    "## Plot of trajectory, smoothing and EWS of var (x or y)\n",
    "fig1, axes = plt.subplots(nrows=5, ncols=1, figsize=(6,10))\n",
    "df_ews[['State variable','Smoothing']].plot(ax=axes[0],\n",
    "          title='Early warning signals')\n",
    "df_ews['Variance'].plot(ax=axes[1],legend=True)\n",
    "df_ews[['Lag-1 AC','Lag-2 AC']].plot(ax=axes[2],legend=True)\n",
    "df_ews['Smax'].plot(ax=axes[3],legend=True, marker='o')\n",
    "df_ews[['AIC null','AIC fold','AIC hopf']].plot(ax=axes[4],legend=True, marker='o');"
   ]
  },
  {
   "cell_type": "markdown",
   "metadata": {},
   "source": [
    "**Power spectra**\n",
    "\n",
    "A grid plot to visualise the evolution of the power spectrum"
   ]
  },
  {
   "cell_type": "code",
   "execution_count": 14,
   "metadata": {
    "scrolled": true
   },
   "outputs": [
    {
     "data": {
      "image/png": "[encoded data removed]",
      "text/plain": [
       "<Figure size 583.2x388.8 with 8 Axes>"
      ]
     },
     "metadata": {
      "needs_background": "light"
     },
     "output_type": "display_data"
    }
   ],
   "source": [
    "def plot_pspec_grid(tVals):\n",
    "    '''\n",
    "    Plot a grid of power spectra, their fits, and AIC values at different times leading up to the bifurcation\n",
    "    \n",
    "    Args\n",
    "    --------\n",
    "    tVals: An array of time values at which to plot the power spectrum\n",
    "    \n",
    "    Returns\n",
    "    ----------\n",
    "    A grid plot\n",
    "    \n",
    "    '''\n",
    "    g = sns.FacetGrid(df_pspec.loc[t_display].reset_index(), \n",
    "                  col='Time',\n",
    "                  col_wrap=3,\n",
    "                  sharey=False,\n",
    "                  aspect=1.5,\n",
    "                  height=1.8\n",
    "                  )\n",
    "\n",
    "    g.map(plt.plot, 'Frequency', 'Empirical', color='k', linewidth=2)\n",
    "    g.map(plt.plot, 'Frequency', 'Fit fold', color='b', linestyle='dashed', linewidth=1)\n",
    "    g.map(plt.plot, 'Frequency', 'Fit hopf', color='r', linestyle='dashed', linewidth=1)\n",
    "    g.map(plt.plot, 'Frequency', 'Fit null', color='g', linestyle='dashed', linewidth=1)\n",
    "    # Axes properties\n",
    "    axes = g.axes\n",
    "    # Set y labels\n",
    "    for ax in axes[::3]:\n",
    "        ax.set_ylabel('Power')\n",
    "        # Set y limit as max power over all time\n",
    "        for ax in axes:\n",
    "            ax.set_ylim(top=1.05*max(df_pspec['Empirical']), bottom=0)\n",
    "#            ax.set_yscale('log')\n",
    "       \n",
    "    return g\n",
    "\n",
    "#  Choose time values at which to display power spectrum\n",
    "t_display = df_pspec.index.levels[0][::3].values\n",
    "\n",
    "plot_pspec = plot_pspec_grid(t_display)"
   ]
  },
  {
   "cell_type": "markdown",
   "metadata": {},
   "source": [
    "Notice how the power spectrum conforms most closely to that of the Fold bifurcation, thus $w_{\\text{Fold}}$ is the AIC weight. We also see the rise in the peak of the power spectrum as the bifurcation is approached."
   ]
  },
  {
   "cell_type": "code",
   "execution_count": null,
   "metadata": {},
   "outputs": [],
   "source": []
  },
  {
   "cell_type": "code",
   "execution_count": null,
   "metadata": {},
   "outputs": [],
   "source": []
  }
 ],
 "metadata": {
  "kernelspec": {
   "display_name": "Python 3",
   "language": "python",
   "name": "python3"
  },
  "language_info": {
   "codemirror_mode": {
    "name": "ipython",
    "version": 3
   },
   "file_extension": ".py",
   "mimetype": "text/x-python",
   "name": "python",
   "nbconvert_exporter": "python",
   "pygments_lexer": "ipython3",
   "version": "3.7.7"
  }
 },
 "nbformat": 4,
 "nbformat_minor": 2
}
