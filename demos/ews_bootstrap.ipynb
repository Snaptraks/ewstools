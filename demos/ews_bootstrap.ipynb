{
 "cells": [
  {
   "cell_type": "markdown",
   "metadata": {},
   "source": [
    "# Demo 2: \n",
    "The objectives of this demo are as follows:\n",
    "- Simulate a single stochastic trajectory of the Ricker model going through a Flip bifurcation\n",
    "- Compute bootstrapped versions of segments of the time-series over a rolling window\n",
    "- Compute EWS of the bootstrapped time-series\n",
    "- Compute and display confidence intervals of the ensemble of EWS"
   ]
  },
  {
   "cell_type": "markdown",
   "metadata": {},
   "source": [
    "## Import the standard Python libraries and ewstools"
   ]
  },
  {
   "cell_type": "code",
   "execution_count": 139,
   "metadata": {},
   "outputs": [],
   "source": [
    "# We will require the following standard Python packages for this analysis\n",
    "import numpy as np\n",
    "import pandas as pd\n",
    "import matplotlib.pyplot as plt\n",
    "import seaborn as sns\n",
    "\n",
    "# This is the package we use to compute the early warning signals\n",
    "from ewstools import ewstools"
   ]
  },
  {
   "cell_type": "markdown",
   "metadata": {},
   "source": [
    "## Simulate the Ricker model"
   ]
  },
  {
   "cell_type": "markdown",
   "metadata": {},
   "source": [
    "Here we simulate a single trajectory of the Ricker model going through a Fold bifurcation. We will use this data to demonstrate the process of computing EWS. Alternatively, you could import your own data here. The importnat thing is that we end up with a Pandas DataFrame indexed by time."
   ]
  },
  {
   "cell_type": "markdown",
   "metadata": {},
   "source": [
    "**Set simulation parameters**"
   ]
  },
  {
   "cell_type": "code",
   "execution_count": 140,
   "metadata": {},
   "outputs": [],
   "source": [
    "dt = 1 # time-step (using 1 since discrete-time system)\n",
    "t0 = 0 # starting time\n",
    "tmax = 1000 # end time\n",
    "tburn = 100 # burn-in period preceding start-time\n",
    "seed = 0 # random number generation seed (set for reproducibility)"
   ]
  },
  {
   "cell_type": "markdown",
   "metadata": {},
   "source": [
    "**Define model**\n",
    "\n",
    "We use the Ricker model with a Holling Type II harvesting term and additive white noise. It is given by\n",
    "$$ N_{t+1} = N_t e^{(r(1-N_t/K) + \\sigma\\epsilon_t} ) - F\\frac{N_t^2}{N_t^2 + h^2}$$\n",
    "where $N_t$ is the population size at time $t$, $r$ is the intrinsic growth rate, $K$ is the carrying capacity, $F$ is the maximum rate of harvesting, $h$ is the half saturation constant of the harvesting term, $\\sigma$ is the noise amplitude, and $\\epsilon_t$ is a normal random variable with zero mean and unit variance."
   ]
  },
  {
   "cell_type": "code",
   "execution_count": 141,
   "metadata": {},
   "outputs": [],
   "source": [
    "# Define the model\n",
    "def de_fun(x,r,k,f,h,xi):\n",
    "    return x*np.exp(r*(1-x/k)+xi) - f*x**2/(x**2+h**2)"
   ]
  },
  {
   "cell_type": "markdown",
   "metadata": {},
   "source": [
    "**Set model parameters**"
   ]
  },
  {
   "cell_type": "code",
   "execution_count": 142,
   "metadata": {},
   "outputs": [],
   "source": [
    "f = 0 # harvesting rate\n",
    "k = 10 # carrying capacity\n",
    "h = 0.75 # half-saturation constant of harvesting function\n",
    "bl = 0.5 # bifurcation parameter (growth rate) low\n",
    "bh = 2.3 # bifurcation parameter (growth rate) high\n",
    "bcrit = 2 # bifurcation point (computed using XPPAUT)\n",
    "sigma = 0.02 # noise intensity\n",
    "x0 = 0.8 # initial condition"
   ]
  },
  {
   "cell_type": "markdown",
   "metadata": {},
   "source": [
    "**Initialisation**"
   ]
  },
  {
   "cell_type": "code",
   "execution_count": 143,
   "metadata": {},
   "outputs": [],
   "source": [
    "# Initialise arrays for time and state values\n",
    "t = np.arange(t0,tmax,dt)\n",
    "x = np.zeros(len(t))\n",
    "\n",
    "# Bifurcation parameter values (increasing linearly in time)\n",
    "b = pd.Series(np.linspace(bl,bh,len(t)),index=t) # bifurcation parameter values over time (linear increase)\n",
    "\n",
    "# Compute time at which bifurcation is crossed\n",
    "tcrit = b[b > bcrit].index[1]\n",
    "\n",
    "# Array of noise values (normal random variables with variance sigma^2 dt)\n",
    "dW_burn = np.random.normal(loc=0, scale=sigma*np.sqrt(dt), size = int(tburn/dt)) # burn-in period\n",
    "dW = np.random.normal(loc=0, scale=sigma*np.sqrt(dt), size = len(t)) # monitored period"
   ]
  },
  {
   "cell_type": "markdown",
   "metadata": {},
   "source": [
    "**Run simulation**"
   ]
  },
  {
   "cell_type": "code",
   "execution_count": 144,
   "metadata": {},
   "outputs": [],
   "source": [
    "# Run burn-in period starting from intiial condition x0\n",
    "for i in range(int(tburn/dt)):\n",
    "    x0 = de_fun(x0,bl,k,f,h,dW_burn[i])\n",
    "\n",
    "# State value post burn-in period. Set as starting value.\n",
    "x[0]=x0\n",
    "\n",
    "# Run simulation using recursion\n",
    "for i in range(len(t)-1):\n",
    "    x[i+1] = de_fun(x[i],b.iloc[i],k,f,h,dW[i])\n",
    "    # Make sure that state variable stays >= 0\n",
    "    if x[i+1] < 0:\n",
    "        x[i+1] = 0\n",
    "        \n",
    "# Store array data in a DataFrame indexed by time\n",
    "sim_data = {'Time': t, 'x': x}\n",
    "df_traj = pd.DataFrame(sim_data)\n",
    "df_traj.set_index('Time', inplace=True)"
   ]
  },
  {
   "cell_type": "markdown",
   "metadata": {},
   "source": [
    "We now have a DataFrame df_traj, with our trajectory, indexed by time. We can check it out with a simple plot, using the command"
   ]
  },
  {
   "cell_type": "code",
   "execution_count": 145,
   "metadata": {},
   "outputs": [
    {
     "data": {
      "image/png": "[encoded data removed]",
      "text/plain": [
       "<Figure size 432x288 with 1 Axes>"
      ]
     },
     "metadata": {
      "needs_background": "light"
     },
     "output_type": "display_data"
    }
   ],
   "source": [
    "df_traj.plot();"
   ]
  },
  {
   "cell_type": "markdown",
   "metadata": {},
   "source": [
    "## Bootstrap the time-series over a rolling window\n",
    "\n",
    "\n",
    "\n",
    "To obtain a more reliable estimate of the statistical metrics that consitute EWS in this system, we bootstrap the detrended time-series within each position of the rolling window. Specifically, we use a block-bootstrapping method where blocks of points are sampled randomly with replacement. The size of the block for each sample is taken from an exponential distribution with a chosen parameter. The block sizes used should be large enough to retain the significant temporal correlations in the time-series. "
   ]
  },
  {
   "cell_type": "markdown",
   "metadata": {},
   "source": [
    "**Set bootstrapping parameters**"
   ]
  },
  {
   "cell_type": "code",
   "execution_count": 146,
   "metadata": {},
   "outputs": [],
   "source": [
    "rw = 0.4 # rolling window\n",
    "span = 0.5 # Lowess span\n",
    "block_size = 20 # characteristic size of blocks used to resample time-series\n",
    "bs_type = 'Stationary' # type of bootstrapping\n",
    "n_samples = 3 # number of bootstrapping samples to take\n",
    "roll_offset = 20 # rolling window offset"
   ]
  },
  {
   "cell_type": "markdown",
   "metadata": {},
   "source": [
    "**Compute block-bootstrapped samples**\n",
    "\n",
    "We now construct a Dataframe of bootstrapped samples of the time-series, using the function *roll_bootstrap* within the *ewstools* package. Note that documentation of each function can be obtained using help(*function_name*)"
   ]
  },
  {
   "cell_type": "code",
   "execution_count": 147,
   "metadata": {},
   "outputs": [],
   "source": [
    "df_samples = ewstools.roll_bootstrap(df_traj['x'],\n",
    "                   span = span,\n",
    "                   roll_window = rw,\n",
    "                   roll_offset = roll_offset,\n",
    "                   upto = tcrit,\n",
    "                   n_samples = n_samples,\n",
    "                   bs_type = bs_type,\n",
    "                   block_size = block_size\n",
    "                   )"
   ]
  },
  {
   "cell_type": "markdown",
   "metadata": {},
   "source": [
    "For illustraion, here are 3 bootstrapped samples from the time-series within the rolling window at $t=459$."
   ]
  },
  {
   "cell_type": "code",
   "execution_count": 148,
   "metadata": {
    "scrolled": true
   },
   "outputs": [
    {
     "data": {
      "image/png": "[encoded data removed]",
      "text/plain": [
       "<Figure size 432x288 with 1 Axes>"
      ]
     },
     "metadata": {
      "needs_background": "light"
     },
     "output_type": "display_data"
    }
   ],
   "source": [
    "df_samples.loc[459].loc[1:3]['x'].unstack(level=0).plot();"
   ]
  },
  {
   "cell_type": "markdown",
   "metadata": {},
   "source": [
    "## Compute EWS of the ensemble of bootstrap time-series\n",
    "\n",
    "Now we send each bootstrapped time-series through *ews_compute*. Note that detrending and extracting segments of the time-series has already been done, so there is no need to smooth the bootstrapped data, or use a rolling window."
   ]
  },
  {
   "cell_type": "markdown",
   "metadata": {},
   "source": [
    "**EWS parameters**"
   ]
  },
  {
   "cell_type": "code",
   "execution_count": 149,
   "metadata": {},
   "outputs": [],
   "source": [
    "ews = ['var','ac','smax','aic']\n",
    "lags = [1,2,3] # autocorrelation lag times\n",
    "ham_length = 40 # number of data points in Hamming window\n",
    "ham_offset = 0.5 # proportion of Hamming window to offset by upon each iteration\n",
    "pspec_roll_offset = 20 # offset for rolling window when doing spectrum metrics\n",
    "sweep = 'False' # whether to sweep over optimisation parameters"
   ]
  },
  {
   "cell_type": "markdown",
   "metadata": {},
   "source": [
    "**Initialisation**"
   ]
  },
  {
   "cell_type": "code",
   "execution_count": 150,
   "metadata": {},
   "outputs": [],
   "source": [
    "# List to store EWS DataFrames\n",
    "list_df_ews = []\n",
    "# List to store power spectra \n",
    "list_pspec = []\n",
    "\n",
    "# Extract time and sample values to loop over\n",
    "# Time values\n",
    "tVals = np.array(df_samples.index.levels[0])\n",
    "# Sample values\n",
    "sampleVals = np.array(df_samples.index.levels[1])"
   ]
  },
  {
   "cell_type": "markdown",
   "metadata": {},
   "source": [
    "**Run ews_compute for each bootstrapped sample (takes a few minutes)**"
   ]
  },
  {
   "cell_type": "code",
   "execution_count": null,
   "metadata": {},
   "outputs": [
    {
     "name": "stdout",
     "output_type": "stream",
     "text": [
      "EWS for t=399.00 complete\n",
      "EWS for t=419.00 complete\n",
      "EWS for t=439.00 complete\n",
      "EWS for t=459.00 complete\n",
      "EWS for t=479.00 complete\n",
      "EWS for t=499.00 complete\n",
      "EWS for t=519.00 complete\n",
      "EWS for t=539.00 complete\n",
      "EWS for t=559.00 complete\n",
      "EWS for t=579.00 complete\n"
     ]
    }
   ],
   "source": [
    "# Loop over time (at end of rolling window)\n",
    "for t in tVals:\n",
    "    # Loop over samples\n",
    "    for sample in sampleVals:\n",
    "        \n",
    "        # Extract series for this time and sample number\n",
    "        series_temp = df_samples.loc[t].loc[sample]['x']\n",
    "        \n",
    "        ews_dic = ewstools.ews_compute(series_temp,\n",
    "                          roll_window = 1, # effectively no rolling window\n",
    "                          band_width = 1, # effectively no detrending\n",
    "                          ews = ews,\n",
    "                          lag_times = lags,\n",
    "                          upto='Full',\n",
    "                          ham_length = ham_length,\n",
    "                          ham_offset = ham_offset,\n",
    "                          sweep = sweep)\n",
    "        \n",
    "        # The DataFrame of EWS\n",
    "        df_ews_temp = ews_dic['EWS metrics']\n",
    "        \n",
    "        # Include columns for sample value and realtime\n",
    "        df_ews_temp['Sample'] = sample\n",
    "        df_ews_temp['Time'] = t\n",
    "\n",
    "        # Drop NaN values\n",
    "        df_ews_temp = df_ews_temp.dropna()        \n",
    "        \n",
    "        # Append list_df_ews\n",
    "        list_df_ews.append(df_ews_temp)\n",
    "    \n",
    "    # Output power spectrum for just one of the samples (ow large file size)\n",
    "    df_pspec_temp = ews_dic['Power spectrum'][['Empirical']].dropna()\n",
    "    list_pspec.append(df_pspec_temp)\n",
    "    \n",
    "    # Print update\n",
    "    print('EWS for t=%.2f complete' % t)\n",
    "        \n",
    "# Concatenate EWS DataFrames. Index [Realtime, Sample]\n",
    "df_ews_boot = pd.concat(list_df_ews).reset_index(drop=True).set_index(['Time','Sample'])\n",
    "\n",
    "df_pspec_boot = pd.concat(list_pspec)"
   ]
  },
  {
   "cell_type": "markdown",
   "metadata": {},
   "source": [
    "## Plot EWS with 95% confidence intervals\n",
    "\n",
    "We use the Seaborn package here to make plots of the ensemble EWS as mean values with 95% confidence intervals."
   ]
  },
  {
   "cell_type": "markdown",
   "metadata": {},
   "source": [
    "**Variance**"
   ]
  },
  {
   "cell_type": "code",
   "execution_count": null,
   "metadata": {
    "scrolled": true
   },
   "outputs": [],
   "source": [
    "sns.relplot(x='Time', y='Variance',\n",
    "            data=df_ews_boot.reset_index()[['Time','Variance']],\n",
    "            kind='line',\n",
    "            height=3,\n",
    "            aspect=2);"
   ]
  },
  {
   "cell_type": "markdown",
   "metadata": {},
   "source": [
    "**Autocorrelation**"
   ]
  },
  {
   "cell_type": "code",
   "execution_count": null,
   "metadata": {},
   "outputs": [],
   "source": [
    "# Structure the data for Seaborn\n",
    "plot_data=df_ews_boot.reset_index()[['Time','Lag-1 AC','Lag-2 AC','Lag-3 AC']].melt(id_vars='Time',\n",
    "                                                                          value_vars=('Lag-1 AC','Lag-2 AC','Lag-3 AC'),\n",
    "                                                                          var_name='EWS', \n",
    "                                                                          value_name='Magnitude')"
   ]
  },
  {
   "cell_type": "code",
   "execution_count": null,
   "metadata": {
    "scrolled": true
   },
   "outputs": [],
   "source": [
    "sns.relplot(x='Time', \n",
    "            y='Magnitude',\n",
    "            hue='EWS',\n",
    "            data=plot_data,\n",
    "            kind='line',\n",
    "            height=3,\n",
    "            aspect=2);"
   ]
  },
  {
   "cell_type": "markdown",
   "metadata": {},
   "source": [
    "**Smax**"
   ]
  },
  {
   "cell_type": "code",
   "execution_count": null,
   "metadata": {
    "scrolled": true
   },
   "outputs": [],
   "source": [
    "sns.relplot(x='Time', y='Smax',\n",
    "            data=df_ews_boot.reset_index()[['Time','Smax']],\n",
    "            kind='line',\n",
    "            height=3,\n",
    "            aspect=2);"
   ]
  },
  {
   "cell_type": "markdown",
   "metadata": {},
   "source": [
    "**AIC weights**"
   ]
  },
  {
   "cell_type": "code",
   "execution_count": null,
   "metadata": {
    "scrolled": true
   },
   "outputs": [],
   "source": [
    "# Structure the data for Seaborn\n",
    "plot_data=df_ews_boot.reset_index()[['Time','AIC fold','AIC hopf','AIC null']].melt(id_vars='Time',\n",
    "                                                                          value_vars=('AIC fold','AIC hopf','AIC null'),\n",
    "                                                                          var_name='EWS', \n",
    "                                                                          value_name='Magnitude')"
   ]
  },
  {
   "cell_type": "code",
   "execution_count": null,
   "metadata": {},
   "outputs": [],
   "source": [
    "sns.relplot(x='Time', \n",
    "            y='Magnitude',\n",
    "            hue='EWS',\n",
    "            data=plot_data,\n",
    "            kind='line',\n",
    "            height=3,\n",
    "            aspect=2);"
   ]
  }
 ],
 "metadata": {
  "kernelspec": {
   "display_name": "Python 3",
   "language": "python",
   "name": "python3"
  },
  "language_info": {
   "codemirror_mode": {
    "name": "ipython",
    "version": 3
   },
   "file_extension": ".py",
   "mimetype": "text/x-python",
   "name": "python",
   "nbconvert_exporter": "python",
   "pygments_lexer": "ipython3",
   "version": "3.7.1"
  }
 },
 "nbformat": 4,
 "nbformat_minor": 2
}
